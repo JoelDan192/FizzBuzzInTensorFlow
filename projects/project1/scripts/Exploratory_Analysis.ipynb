{
 "cells": [
  {
   "cell_type": "code",
   "execution_count": 132,
   "metadata": {
    "collapsed": false
   },
   "outputs": [
    {
     "name": "stdout",
     "output_type": "stream",
     "text": [
      "The autoreload extension is already loaded. To reload it, use:\n",
      "  %reload_ext autoreload\n"
     ]
    }
   ],
   "source": [
    "# Useful starting lines\n",
    "%matplotlib inline\n",
    "import numpy as np\n",
    "import matplotlib.pyplot as plt\n",
    "%load_ext autoreload\n",
    "%autoreload 2"
   ]
  },
  {
   "cell_type": "markdown",
   "metadata": {},
   "source": [
    "## Visualization"
   ]
  },
  {
   "cell_type": "code",
   "execution_count": 133,
   "metadata": {
    "collapsed": false
   },
   "outputs": [],
   "source": [
    "import pandas as pd\n",
    "import seaborn as sns"
   ]
  },
  {
   "cell_type": "code",
   "execution_count": 134,
   "metadata": {
    "collapsed": true
   },
   "outputs": [],
   "source": [
    "df = pd.read_csv('../train.csv')"
   ]
  },
  {
   "cell_type": "code",
   "execution_count": 135,
   "metadata": {
    "collapsed": false
   },
   "outputs": [
    {
     "data": {
      "text/plain": [
       "(250000, 32)"
      ]
     },
     "execution_count": 135,
     "metadata": {},
     "output_type": "execute_result"
    }
   ],
   "source": [
    "df.shape"
   ]
  },
  {
   "cell_type": "code",
   "execution_count": 136,
   "metadata": {
    "collapsed": false
   },
   "outputs": [
    {
     "data": {
      "text/plain": [
       "(85667, 32)"
      ]
     },
     "execution_count": 136,
     "metadata": {},
     "output_type": "execute_result"
    }
   ],
   "source": [
    "df[df.Prediction=='s'].shape"
   ]
  },
  {
   "cell_type": "code",
   "execution_count": 137,
   "metadata": {
    "collapsed": false
   },
   "outputs": [
    {
     "data": {
      "text/plain": [
       "(164333, 32)"
      ]
     },
     "execution_count": 137,
     "metadata": {},
     "output_type": "execute_result"
    }
   ],
   "source": [
    "df[df.Prediction=='b'].shape"
   ]
  },
  {
   "cell_type": "code",
   "execution_count": 115,
   "metadata": {
    "collapsed": false
   },
   "outputs": [],
   "source": [
    "feat_names = [col for col in df.columns if col not in ['Id','Prediction']]\n",
    "\n",
    "#for colname in feat_names:\n",
    "#    df.loc[df[colname]==-999.000,[colname]]=df[colname][df[colname]!=-999.000].median()"
   ]
  },
  {
   "cell_type": "code",
   "execution_count": 116,
   "metadata": {
    "collapsed": false
   },
   "outputs": [
    {
     "data": {
      "text/html": [
       "<div>\n",
       "<table border=\"1\" class=\"dataframe\">\n",
       "  <thead>\n",
       "    <tr style=\"text-align: right;\">\n",
       "      <th></th>\n",
       "      <th>Id</th>\n",
       "      <th>DER_mass_MMC</th>\n",
       "      <th>DER_mass_transverse_met_lep</th>\n",
       "      <th>DER_mass_vis</th>\n",
       "      <th>DER_pt_h</th>\n",
       "      <th>DER_deltaeta_jet_jet</th>\n",
       "      <th>DER_mass_jet_jet</th>\n",
       "      <th>DER_prodeta_jet_jet</th>\n",
       "      <th>DER_deltar_tau_lep</th>\n",
       "      <th>DER_pt_tot</th>\n",
       "      <th>...</th>\n",
       "      <th>PRI_met_phi</th>\n",
       "      <th>PRI_met_sumet</th>\n",
       "      <th>PRI_jet_num</th>\n",
       "      <th>PRI_jet_leading_pt</th>\n",
       "      <th>PRI_jet_leading_eta</th>\n",
       "      <th>PRI_jet_leading_phi</th>\n",
       "      <th>PRI_jet_subleading_pt</th>\n",
       "      <th>PRI_jet_subleading_eta</th>\n",
       "      <th>PRI_jet_subleading_phi</th>\n",
       "      <th>PRI_jet_all_pt</th>\n",
       "    </tr>\n",
       "  </thead>\n",
       "  <tbody>\n",
       "    <tr>\n",
       "      <th>count</th>\n",
       "      <td>250000.000000</td>\n",
       "      <td>250000.000000</td>\n",
       "      <td>250000.000000</td>\n",
       "      <td>250000.000000</td>\n",
       "      <td>250000.000000</td>\n",
       "      <td>250000.000000</td>\n",
       "      <td>250000.000000</td>\n",
       "      <td>250000.000000</td>\n",
       "      <td>250000.000000</td>\n",
       "      <td>250000.000000</td>\n",
       "      <td>...</td>\n",
       "      <td>250000.000000</td>\n",
       "      <td>250000.000000</td>\n",
       "      <td>250000.000000</td>\n",
       "      <td>250000.000000</td>\n",
       "      <td>250000.000000</td>\n",
       "      <td>250000.000000</td>\n",
       "      <td>250000.000000</td>\n",
       "      <td>250000.000000</td>\n",
       "      <td>250000.000000</td>\n",
       "      <td>250000.000000</td>\n",
       "    </tr>\n",
       "    <tr>\n",
       "      <th>mean</th>\n",
       "      <td>224999.500000</td>\n",
       "      <td>120.417434</td>\n",
       "      <td>49.239819</td>\n",
       "      <td>81.181982</td>\n",
       "      <td>57.895962</td>\n",
       "      <td>2.193104</td>\n",
       "      <td>268.220619</td>\n",
       "      <td>-0.411629</td>\n",
       "      <td>2.373100</td>\n",
       "      <td>18.917332</td>\n",
       "      <td>...</td>\n",
       "      <td>-0.010119</td>\n",
       "      <td>209.797178</td>\n",
       "      <td>0.979176</td>\n",
       "      <td>77.124366</td>\n",
       "      <td>-0.001966</td>\n",
       "      <td>-0.020629</td>\n",
       "      <td>50.739149</td>\n",
       "      <td>-0.010535</td>\n",
       "      <td>-0.001879</td>\n",
       "      <td>73.064591</td>\n",
       "    </tr>\n",
       "    <tr>\n",
       "      <th>std</th>\n",
       "      <td>72168.927986</td>\n",
       "      <td>52.859218</td>\n",
       "      <td>35.344886</td>\n",
       "      <td>40.828691</td>\n",
       "      <td>63.655682</td>\n",
       "      <td>0.948104</td>\n",
       "      <td>224.229668</td>\n",
       "      <td>1.948520</td>\n",
       "      <td>0.782911</td>\n",
       "      <td>22.273494</td>\n",
       "      <td>...</td>\n",
       "      <td>1.812223</td>\n",
       "      <td>126.499506</td>\n",
       "      <td>0.977426</td>\n",
       "      <td>47.939899</td>\n",
       "      <td>1.382703</td>\n",
       "      <td>1.405084</td>\n",
       "      <td>17.792135</td>\n",
       "      <td>1.094446</td>\n",
       "      <td>0.978743</td>\n",
       "      <td>98.015662</td>\n",
       "    </tr>\n",
       "    <tr>\n",
       "      <th>min</th>\n",
       "      <td>100000.000000</td>\n",
       "      <td>9.044000</td>\n",
       "      <td>0.000000</td>\n",
       "      <td>6.329000</td>\n",
       "      <td>0.000000</td>\n",
       "      <td>0.000000</td>\n",
       "      <td>13.602000</td>\n",
       "      <td>-18.066000</td>\n",
       "      <td>0.208000</td>\n",
       "      <td>0.000000</td>\n",
       "      <td>...</td>\n",
       "      <td>-3.142000</td>\n",
       "      <td>13.678000</td>\n",
       "      <td>0.000000</td>\n",
       "      <td>30.000000</td>\n",
       "      <td>-4.499000</td>\n",
       "      <td>-3.142000</td>\n",
       "      <td>30.000000</td>\n",
       "      <td>-4.500000</td>\n",
       "      <td>-3.142000</td>\n",
       "      <td>0.000000</td>\n",
       "    </tr>\n",
       "    <tr>\n",
       "      <th>25%</th>\n",
       "      <td>162499.750000</td>\n",
       "      <td>95.665000</td>\n",
       "      <td>19.241000</td>\n",
       "      <td>59.388750</td>\n",
       "      <td>14.068750</td>\n",
       "      <td>2.107000</td>\n",
       "      <td>225.885000</td>\n",
       "      <td>-0.244000</td>\n",
       "      <td>1.810000</td>\n",
       "      <td>2.841000</td>\n",
       "      <td>...</td>\n",
       "      <td>-1.575000</td>\n",
       "      <td>123.017500</td>\n",
       "      <td>0.000000</td>\n",
       "      <td>57.439000</td>\n",
       "      <td>-0.433000</td>\n",
       "      <td>-0.556000</td>\n",
       "      <td>47.902000</td>\n",
       "      <td>-0.010000</td>\n",
       "      <td>-0.002000</td>\n",
       "      <td>0.000000</td>\n",
       "    </tr>\n",
       "    <tr>\n",
       "      <th>50%</th>\n",
       "      <td>224999.500000</td>\n",
       "      <td>112.406000</td>\n",
       "      <td>46.524000</td>\n",
       "      <td>73.752000</td>\n",
       "      <td>38.467500</td>\n",
       "      <td>2.107000</td>\n",
       "      <td>225.885000</td>\n",
       "      <td>-0.244000</td>\n",
       "      <td>2.491500</td>\n",
       "      <td>12.315500</td>\n",
       "      <td>...</td>\n",
       "      <td>-0.024000</td>\n",
       "      <td>179.739000</td>\n",
       "      <td>1.000000</td>\n",
       "      <td>65.561000</td>\n",
       "      <td>0.000000</td>\n",
       "      <td>-0.033000</td>\n",
       "      <td>47.902000</td>\n",
       "      <td>-0.010000</td>\n",
       "      <td>-0.002000</td>\n",
       "      <td>40.512500</td>\n",
       "    </tr>\n",
       "    <tr>\n",
       "      <th>75%</th>\n",
       "      <td>287499.250000</td>\n",
       "      <td>130.606250</td>\n",
       "      <td>73.598000</td>\n",
       "      <td>92.259000</td>\n",
       "      <td>79.169000</td>\n",
       "      <td>2.107000</td>\n",
       "      <td>225.885000</td>\n",
       "      <td>-0.244000</td>\n",
       "      <td>2.961000</td>\n",
       "      <td>27.591000</td>\n",
       "      <td>...</td>\n",
       "      <td>1.561000</td>\n",
       "      <td>263.379250</td>\n",
       "      <td>2.000000</td>\n",
       "      <td>75.349000</td>\n",
       "      <td>0.433000</td>\n",
       "      <td>0.503000</td>\n",
       "      <td>47.902000</td>\n",
       "      <td>-0.010000</td>\n",
       "      <td>-0.002000</td>\n",
       "      <td>109.933750</td>\n",
       "    </tr>\n",
       "    <tr>\n",
       "      <th>max</th>\n",
       "      <td>349999.000000</td>\n",
       "      <td>1192.026000</td>\n",
       "      <td>690.075000</td>\n",
       "      <td>1349.351000</td>\n",
       "      <td>2834.999000</td>\n",
       "      <td>8.503000</td>\n",
       "      <td>4974.979000</td>\n",
       "      <td>16.690000</td>\n",
       "      <td>5.684000</td>\n",
       "      <td>2834.999000</td>\n",
       "      <td>...</td>\n",
       "      <td>3.142000</td>\n",
       "      <td>2003.976000</td>\n",
       "      <td>3.000000</td>\n",
       "      <td>1120.573000</td>\n",
       "      <td>4.499000</td>\n",
       "      <td>3.141000</td>\n",
       "      <td>721.456000</td>\n",
       "      <td>4.500000</td>\n",
       "      <td>3.142000</td>\n",
       "      <td>1633.433000</td>\n",
       "    </tr>\n",
       "  </tbody>\n",
       "</table>\n",
       "<p>8 rows × 31 columns</p>\n",
       "</div>"
      ],
      "text/plain": [
       "                  Id   DER_mass_MMC  DER_mass_transverse_met_lep  \\\n",
       "count  250000.000000  250000.000000                250000.000000   \n",
       "mean   224999.500000     120.417434                    49.239819   \n",
       "std     72168.927986      52.859218                    35.344886   \n",
       "min    100000.000000       9.044000                     0.000000   \n",
       "25%    162499.750000      95.665000                    19.241000   \n",
       "50%    224999.500000     112.406000                    46.524000   \n",
       "75%    287499.250000     130.606250                    73.598000   \n",
       "max    349999.000000    1192.026000                   690.075000   \n",
       "\n",
       "        DER_mass_vis       DER_pt_h  DER_deltaeta_jet_jet  DER_mass_jet_jet  \\\n",
       "count  250000.000000  250000.000000         250000.000000     250000.000000   \n",
       "mean       81.181982      57.895962              2.193104        268.220619   \n",
       "std        40.828691      63.655682              0.948104        224.229668   \n",
       "min         6.329000       0.000000              0.000000         13.602000   \n",
       "25%        59.388750      14.068750              2.107000        225.885000   \n",
       "50%        73.752000      38.467500              2.107000        225.885000   \n",
       "75%        92.259000      79.169000              2.107000        225.885000   \n",
       "max      1349.351000    2834.999000              8.503000       4974.979000   \n",
       "\n",
       "       DER_prodeta_jet_jet  DER_deltar_tau_lep     DER_pt_tot       ...        \\\n",
       "count        250000.000000       250000.000000  250000.000000       ...         \n",
       "mean             -0.411629            2.373100      18.917332       ...         \n",
       "std               1.948520            0.782911      22.273494       ...         \n",
       "min             -18.066000            0.208000       0.000000       ...         \n",
       "25%              -0.244000            1.810000       2.841000       ...         \n",
       "50%              -0.244000            2.491500      12.315500       ...         \n",
       "75%              -0.244000            2.961000      27.591000       ...         \n",
       "max              16.690000            5.684000    2834.999000       ...         \n",
       "\n",
       "         PRI_met_phi  PRI_met_sumet    PRI_jet_num  PRI_jet_leading_pt  \\\n",
       "count  250000.000000  250000.000000  250000.000000       250000.000000   \n",
       "mean       -0.010119     209.797178       0.979176           77.124366   \n",
       "std         1.812223     126.499506       0.977426           47.939899   \n",
       "min        -3.142000      13.678000       0.000000           30.000000   \n",
       "25%        -1.575000     123.017500       0.000000           57.439000   \n",
       "50%        -0.024000     179.739000       1.000000           65.561000   \n",
       "75%         1.561000     263.379250       2.000000           75.349000   \n",
       "max         3.142000    2003.976000       3.000000         1120.573000   \n",
       "\n",
       "       PRI_jet_leading_eta  PRI_jet_leading_phi  PRI_jet_subleading_pt  \\\n",
       "count        250000.000000        250000.000000          250000.000000   \n",
       "mean             -0.001966            -0.020629              50.739149   \n",
       "std               1.382703             1.405084              17.792135   \n",
       "min              -4.499000            -3.142000              30.000000   \n",
       "25%              -0.433000            -0.556000              47.902000   \n",
       "50%               0.000000            -0.033000              47.902000   \n",
       "75%               0.433000             0.503000              47.902000   \n",
       "max               4.499000             3.141000             721.456000   \n",
       "\n",
       "       PRI_jet_subleading_eta  PRI_jet_subleading_phi  PRI_jet_all_pt  \n",
       "count           250000.000000           250000.000000   250000.000000  \n",
       "mean                -0.010535               -0.001879       73.064591  \n",
       "std                  1.094446                0.978743       98.015662  \n",
       "min                 -4.500000               -3.142000        0.000000  \n",
       "25%                 -0.010000               -0.002000        0.000000  \n",
       "50%                 -0.010000               -0.002000       40.512500  \n",
       "75%                 -0.010000               -0.002000      109.933750  \n",
       "max                  4.500000                3.142000     1633.433000  \n",
       "\n",
       "[8 rows x 31 columns]"
      ]
     },
     "execution_count": 116,
     "metadata": {},
     "output_type": "execute_result"
    }
   ],
   "source": [
    "df.describe()"
   ]
  },
  {
   "cell_type": "code",
   "execution_count": 138,
   "metadata": {
    "collapsed": false,
    "scrolled": true
   },
   "outputs": [
    {
     "data": {
      "text/plain": [
       "(250000, 32)"
      ]
     },
     "execution_count": 138,
     "metadata": {},
     "output_type": "execute_result"
    }
   ],
   "source": [
    "df.shape"
   ]
  },
  {
   "cell_type": "code",
   "execution_count": 139,
   "metadata": {
    "collapsed": false
   },
   "outputs": [
    {
     "data": {
      "text/plain": [
       "38114"
      ]
     },
     "execution_count": 139,
     "metadata": {},
     "output_type": "execute_result"
    }
   ],
   "source": [
    "sum(df[\"DER_mass_MMC\"]==-999.00)"
   ]
  },
  {
   "cell_type": "code",
   "execution_count": 45,
   "metadata": {
    "collapsed": false
   },
   "outputs": [],
   "source": [
    "df.to_csv('../train_mod.csv', index=False)"
   ]
  },
  {
   "cell_type": "code",
   "execution_count": null,
   "metadata": {
    "collapsed": true
   },
   "outputs": [],
   "source": []
  },
  {
   "cell_type": "code",
   "execution_count": null,
   "metadata": {
    "collapsed": true
   },
   "outputs": [],
   "source": []
  },
  {
   "cell_type": "code",
   "execution_count": 58,
   "metadata": {
    "collapsed": false
   },
   "outputs": [],
   "source": [
    "DER_features = [colname for colname in df.columns if colname.startswith(\"DER\")]"
   ]
  },
  {
   "cell_type": "code",
   "execution_count": 59,
   "metadata": {
    "collapsed": false
   },
   "outputs": [],
   "source": [
    "phys_feats = ['Id','Prediction'] + DER_features"
   ]
  },
  {
   "cell_type": "code",
   "execution_count": 60,
   "metadata": {
    "collapsed": false
   },
   "outputs": [],
   "source": [
    "df_phys = df[phys_feats]"
   ]
  },
  {
   "cell_type": "code",
   "execution_count": 62,
   "metadata": {
    "collapsed": false
   },
   "outputs": [],
   "source": [
    "df_phys.to_csv('../train_phys.csv', index=False)"
   ]
  },
  {
   "cell_type": "code",
   "execution_count": 66,
   "metadata": {
    "collapsed": false
   },
   "outputs": [
    {
     "data": {
      "text/plain": [
       "(250000, 13)"
      ]
     },
     "execution_count": 66,
     "metadata": {},
     "output_type": "execute_result"
    }
   ],
   "source": [
    "df[DER_features].as_matrix().shape"
   ]
  },
  {
   "cell_type": "code",
   "execution_count": 78,
   "metadata": {
    "collapsed": false
   },
   "outputs": [],
   "source": [
    "test = pd.read_csv('../test.csv')\n",
    "test_phys = test[phys_feats]"
   ]
  },
  {
   "cell_type": "code",
   "execution_count": 82,
   "metadata": {
    "collapsed": false
   },
   "outputs": [],
   "source": [
    "test_phys.to_csv('../test_phys.csv',index=False)"
   ]
  },
  {
   "cell_type": "markdown",
   "metadata": {},
   "source": [
    "## PCA"
   ]
  },
  {
   "cell_type": "code",
   "execution_count": 140,
   "metadata": {
    "collapsed": false
   },
   "outputs": [
    {
     "name": "stdout",
     "output_type": "stream",
     "text": [
      "Using all PCs, MSE = 3.88932E-24\n",
      "Using first 20 PCs, MSE = 0.177652\n"
     ]
    }
   ],
   "source": [
    "M = df[feat_names].as_matrix()\n",
    "U, s, Vt = np.linalg.svd(M, full_matrices=False)\n",
    "V = Vt.T\n",
    "\n",
    "# PCs are already sorted by descending order \n",
    "# of the singular values (i.e. by the\n",
    "# proportion of total variance they explain)\n",
    "\n",
    "# if we use all of the PCs we can reconstruct the noisy signal perfectly\n",
    "S = np.diag(s)\n",
    "Mhat = np.dot(U, np.dot(S, V.T))\n",
    "print(\"Using all PCs, MSE = %.6G\" %(np.mean((M - Mhat)**2)))\n",
    "\n",
    "# if we use only the first 20 PCs the reconstruction is less accurate\n",
    "Mhat2 = np.dot(U[:, :20], np.dot(S[:20, :20], V[:,:20].T))\n",
    "print(\"Using first 20 PCs, MSE = %.6G\" %(np.mean((M - Mhat2)**2)))"
   ]
  },
  {
   "cell_type": "code",
   "execution_count": 141,
   "metadata": {
    "collapsed": false
   },
   "outputs": [
    {
     "data": {
      "text/plain": [
       "array([ 0.87446117,  0.94964099,  0.97401173,  0.99471526,  0.99870389,\n",
       "        0.99912491,  0.99940475,  0.99959834,  0.9997434 ,  0.9998227 ,\n",
       "        0.99988145,  0.99993866,  0.99996817,  0.99998939,  0.999997  ,\n",
       "        0.99999761,  0.99999814,  0.99999856,  0.99999894,  0.99999919,\n",
       "        0.9999994 ,  0.99999956,  0.99999968,  0.99999979,  0.99999989,\n",
       "        0.99999996,  0.99999998,  0.99999999,  1.        ,  1.        ])"
      ]
     },
     "execution_count": 141,
     "metadata": {},
     "output_type": "execute_result"
    }
   ],
   "source": [
    "singulars = np.diag(S)**2\n",
    "singulars.cumsum()/singulars.sum()"
   ]
  },
  {
   "cell_type": "code",
   "execution_count": 142,
   "metadata": {
    "collapsed": false
   },
   "outputs": [
    {
     "data": {
      "text/plain": [
       "(250000, 30)"
      ]
     },
     "execution_count": 142,
     "metadata": {},
     "output_type": "execute_result"
    }
   ],
   "source": [
    "up_to = 5\n",
    "Mhat = np.dot(U[:, :up_to], np.dot(S[:up_to, :up_to], V[:,:up_to].T))\n",
    "Mhat.shape"
   ]
  },
  {
   "cell_type": "code",
   "execution_count": 143,
   "metadata": {
    "collapsed": false
   },
   "outputs": [
    {
     "data": {
      "text/html": [
       "<div>\n",
       "<table border=\"1\" class=\"dataframe\">\n",
       "  <thead>\n",
       "    <tr style=\"text-align: right;\">\n",
       "      <th></th>\n",
       "      <th>Id</th>\n",
       "      <th>Prediction</th>\n",
       "      <th>DER_mass_MMC</th>\n",
       "      <th>DER_mass_transverse_met_lep</th>\n",
       "      <th>DER_mass_vis</th>\n",
       "      <th>DER_pt_h</th>\n",
       "      <th>DER_deltaeta_jet_jet</th>\n",
       "      <th>DER_mass_jet_jet</th>\n",
       "      <th>DER_prodeta_jet_jet</th>\n",
       "      <th>DER_deltar_tau_lep</th>\n",
       "      <th>...</th>\n",
       "      <th>PRI_met_phi</th>\n",
       "      <th>PRI_met_sumet</th>\n",
       "      <th>PRI_jet_num</th>\n",
       "      <th>PRI_jet_leading_pt</th>\n",
       "      <th>PRI_jet_leading_eta</th>\n",
       "      <th>PRI_jet_leading_phi</th>\n",
       "      <th>PRI_jet_subleading_pt</th>\n",
       "      <th>PRI_jet_subleading_eta</th>\n",
       "      <th>PRI_jet_subleading_phi</th>\n",
       "      <th>PRI_jet_all_pt</th>\n",
       "    </tr>\n",
       "  </thead>\n",
       "  <tbody>\n",
       "    <tr>\n",
       "      <th>0</th>\n",
       "      <td>100000</td>\n",
       "      <td>s</td>\n",
       "      <td>138.874048</td>\n",
       "      <td>19.066899</td>\n",
       "      <td>48.594329</td>\n",
       "      <td>83.251886</td>\n",
       "      <td>1.886396</td>\n",
       "      <td>124.695484</td>\n",
       "      <td>1.342045</td>\n",
       "      <td>1.008665</td>\n",
       "      <td>...</td>\n",
       "      <td>0.007373</td>\n",
       "      <td>239.023662</td>\n",
       "      <td>1.307359</td>\n",
       "      <td>75.093247</td>\n",
       "      <td>-4.509994</td>\n",
       "      <td>-4.511033</td>\n",
       "      <td>38.002589</td>\n",
       "      <td>1.025672</td>\n",
       "      <td>1.024730</td>\n",
       "      <td>133.529823</td>\n",
       "    </tr>\n",
       "    <tr>\n",
       "      <th>1</th>\n",
       "      <td>100001</td>\n",
       "      <td>b</td>\n",
       "      <td>159.698839</td>\n",
       "      <td>36.931498</td>\n",
       "      <td>78.172665</td>\n",
       "      <td>55.297834</td>\n",
       "      <td>-998.534687</td>\n",
       "      <td>-998.490331</td>\n",
       "      <td>-998.665065</td>\n",
       "      <td>2.309680</td>\n",
       "      <td>...</td>\n",
       "      <td>-0.002444</td>\n",
       "      <td>171.750439</td>\n",
       "      <td>0.811787</td>\n",
       "      <td>51.945018</td>\n",
       "      <td>-2.556009</td>\n",
       "      <td>-2.571503</td>\n",
       "      <td>-1003.706321</td>\n",
       "      <td>-998.490310</td>\n",
       "      <td>-998.490224</td>\n",
       "      <td>46.381219</td>\n",
       "    </tr>\n",
       "    <tr>\n",
       "      <th>2</th>\n",
       "      <td>100002</td>\n",
       "      <td>b</td>\n",
       "      <td>-999.648397</td>\n",
       "      <td>88.892883</td>\n",
       "      <td>73.266044</td>\n",
       "      <td>79.495140</td>\n",
       "      <td>-1001.654061</td>\n",
       "      <td>-999.166789</td>\n",
       "      <td>-1001.400750</td>\n",
       "      <td>1.854753</td>\n",
       "      <td>...</td>\n",
       "      <td>-0.032879</td>\n",
       "      <td>237.816882</td>\n",
       "      <td>1.267982</td>\n",
       "      <td>67.604991</td>\n",
       "      <td>-14.446781</td>\n",
       "      <td>-14.453713</td>\n",
       "      <td>-993.513282</td>\n",
       "      <td>-1001.697945</td>\n",
       "      <td>-1001.692815</td>\n",
       "      <td>94.921891</td>\n",
       "    </tr>\n",
       "    <tr>\n",
       "      <th>3</th>\n",
       "      <td>100003</td>\n",
       "      <td>b</td>\n",
       "      <td>141.801663</td>\n",
       "      <td>45.167866</td>\n",
       "      <td>83.993699</td>\n",
       "      <td>7.574865</td>\n",
       "      <td>-998.580553</td>\n",
       "      <td>-998.251360</td>\n",
       "      <td>-998.693283</td>\n",
       "      <td>2.805168</td>\n",
       "      <td>...</td>\n",
       "      <td>-0.015908</td>\n",
       "      <td>110.196134</td>\n",
       "      <td>-0.108426</td>\n",
       "      <td>-1003.890815</td>\n",
       "      <td>-996.522083</td>\n",
       "      <td>-996.524288</td>\n",
       "      <td>-1001.831558</td>\n",
       "      <td>-998.567339</td>\n",
       "      <td>-998.568892</td>\n",
       "      <td>-12.444934</td>\n",
       "    </tr>\n",
       "    <tr>\n",
       "      <th>4</th>\n",
       "      <td>100004</td>\n",
       "      <td>b</td>\n",
       "      <td>177.558781</td>\n",
       "      <td>41.809811</td>\n",
       "      <td>80.900363</td>\n",
       "      <td>0.980680</td>\n",
       "      <td>-998.151920</td>\n",
       "      <td>-997.724931</td>\n",
       "      <td>-998.339127</td>\n",
       "      <td>2.758815</td>\n",
       "      <td>...</td>\n",
       "      <td>-0.015205</td>\n",
       "      <td>91.226817</td>\n",
       "      <td>-0.210658</td>\n",
       "      <td>-1007.865859</td>\n",
       "      <td>-994.129380</td>\n",
       "      <td>-994.131863</td>\n",
       "      <td>-1004.300521</td>\n",
       "      <td>-998.113294</td>\n",
       "      <td>-998.114781</td>\n",
       "      <td>-23.309099</td>\n",
       "    </tr>\n",
       "  </tbody>\n",
       "</table>\n",
       "<p>5 rows × 32 columns</p>\n",
       "</div>"
      ],
      "text/plain": [
       "       Id Prediction  DER_mass_MMC  DER_mass_transverse_met_lep  DER_mass_vis  \\\n",
       "0  100000          s    138.874048                    19.066899     48.594329   \n",
       "1  100001          b    159.698839                    36.931498     78.172665   \n",
       "2  100002          b   -999.648397                    88.892883     73.266044   \n",
       "3  100003          b    141.801663                    45.167866     83.993699   \n",
       "4  100004          b    177.558781                    41.809811     80.900363   \n",
       "\n",
       "    DER_pt_h  DER_deltaeta_jet_jet  DER_mass_jet_jet  DER_prodeta_jet_jet  \\\n",
       "0  83.251886              1.886396        124.695484             1.342045   \n",
       "1  55.297834           -998.534687       -998.490331          -998.665065   \n",
       "2  79.495140          -1001.654061       -999.166789         -1001.400750   \n",
       "3   7.574865           -998.580553       -998.251360          -998.693283   \n",
       "4   0.980680           -998.151920       -997.724931          -998.339127   \n",
       "\n",
       "   DER_deltar_tau_lep       ...        PRI_met_phi  PRI_met_sumet  \\\n",
       "0            1.008665       ...           0.007373     239.023662   \n",
       "1            2.309680       ...          -0.002444     171.750439   \n",
       "2            1.854753       ...          -0.032879     237.816882   \n",
       "3            2.805168       ...          -0.015908     110.196134   \n",
       "4            2.758815       ...          -0.015205      91.226817   \n",
       "\n",
       "   PRI_jet_num  PRI_jet_leading_pt  PRI_jet_leading_eta  PRI_jet_leading_phi  \\\n",
       "0     1.307359           75.093247            -4.509994            -4.511033   \n",
       "1     0.811787           51.945018            -2.556009            -2.571503   \n",
       "2     1.267982           67.604991           -14.446781           -14.453713   \n",
       "3    -0.108426        -1003.890815          -996.522083          -996.524288   \n",
       "4    -0.210658        -1007.865859          -994.129380          -994.131863   \n",
       "\n",
       "   PRI_jet_subleading_pt  PRI_jet_subleading_eta  PRI_jet_subleading_phi  \\\n",
       "0              38.002589                1.025672                1.024730   \n",
       "1           -1003.706321             -998.490310             -998.490224   \n",
       "2            -993.513282            -1001.697945            -1001.692815   \n",
       "3           -1001.831558             -998.567339             -998.568892   \n",
       "4           -1004.300521             -998.113294             -998.114781   \n",
       "\n",
       "   PRI_jet_all_pt  \n",
       "0      133.529823  \n",
       "1       46.381219  \n",
       "2       94.921891  \n",
       "3      -12.444934  \n",
       "4      -23.309099  \n",
       "\n",
       "[5 rows x 32 columns]"
      ]
     },
     "execution_count": 143,
     "metadata": {},
     "output_type": "execute_result"
    }
   ],
   "source": [
    "df_pca = pd.DataFrame(Mhat)\n",
    "df_pca['Id'] = df['Id']\n",
    "df_pca['Prediction'] = df['Prediction']\n",
    "df_pca.columns = feat_names + ['Id','Prediction']\n",
    "df_pca = df_pca[['Id','Prediction']+feat_names]\n",
    "df_pca.head()"
   ]
  },
  {
   "cell_type": "code",
   "execution_count": 144,
   "metadata": {
    "collapsed": false
   },
   "outputs": [
    {
     "data": {
      "text/plain": [
       "(250000, 32)"
      ]
     },
     "execution_count": 144,
     "metadata": {},
     "output_type": "execute_result"
    }
   ],
   "source": [
    "df_pca.shape"
   ]
  },
  {
   "cell_type": "code",
   "execution_count": 145,
   "metadata": {
    "collapsed": true
   },
   "outputs": [],
   "source": [
    "df_pca.to_csv('../train_pca.csv',index=False)"
   ]
  },
  {
   "cell_type": "markdown",
   "metadata": {},
   "source": [
    "## PCA test"
   ]
  },
  {
   "cell_type": "code",
   "execution_count": 146,
   "metadata": {
    "collapsed": true
   },
   "outputs": [],
   "source": [
    "df_pca_test = pd.read_csv('../test.csv')"
   ]
  },
  {
   "cell_type": "code",
   "execution_count": 147,
   "metadata": {
    "collapsed": true
   },
   "outputs": [],
   "source": [
    "M = df_pca_test[feat_names].as_matrix()\n",
    "U, s, Vt = np.linalg.svd(M, full_matrices=False)\n",
    "V = Vt.T\n",
    "S = np.diag(s)"
   ]
  },
  {
   "cell_type": "code",
   "execution_count": 148,
   "metadata": {
    "collapsed": false
   },
   "outputs": [
    {
     "data": {
      "text/plain": [
       "array([ 0.8744866 ,  0.94948899,  0.97392872,  0.99468636,  0.99871676,\n",
       "        0.99913602,  0.99941321,  0.99960441,  0.99974825,  0.99982542,\n",
       "        0.99988318,  0.99993897,  0.99996824,  0.99998935,  0.99999701,\n",
       "        0.99999761,  0.99999815,  0.99999856,  0.99999894,  0.99999919,\n",
       "        0.9999994 ,  0.99999955,  0.99999968,  0.99999979,  0.99999989,\n",
       "        0.99999996,  0.99999998,  0.99999999,  1.        ,  1.        ])"
      ]
     },
     "execution_count": 148,
     "metadata": {},
     "output_type": "execute_result"
    }
   ],
   "source": [
    "singulars = np.diag(S)**2\n",
    "singulars.cumsum()/singulars.sum()"
   ]
  },
  {
   "cell_type": "code",
   "execution_count": 149,
   "metadata": {
    "collapsed": false
   },
   "outputs": [
    {
     "data": {
      "text/plain": [
       "(568238, 30)"
      ]
     },
     "execution_count": 149,
     "metadata": {},
     "output_type": "execute_result"
    }
   ],
   "source": [
    "up_to = 5\n",
    "Mhat = np.dot(U[:, :up_to], np.dot(S[:up_to, :up_to], V[:,:up_to].T))\n",
    "Mhat.shape"
   ]
  },
  {
   "cell_type": "code",
   "execution_count": 150,
   "metadata": {
    "collapsed": false
   },
   "outputs": [
    {
     "data": {
      "text/html": [
       "<div>\n",
       "<table border=\"1\" class=\"dataframe\">\n",
       "  <thead>\n",
       "    <tr style=\"text-align: right;\">\n",
       "      <th></th>\n",
       "      <th>Id</th>\n",
       "      <th>Prediction</th>\n",
       "      <th>DER_mass_MMC</th>\n",
       "      <th>DER_mass_transverse_met_lep</th>\n",
       "      <th>DER_mass_vis</th>\n",
       "      <th>DER_pt_h</th>\n",
       "      <th>DER_deltaeta_jet_jet</th>\n",
       "      <th>DER_mass_jet_jet</th>\n",
       "      <th>DER_prodeta_jet_jet</th>\n",
       "      <th>DER_deltar_tau_lep</th>\n",
       "      <th>...</th>\n",
       "      <th>PRI_met_phi</th>\n",
       "      <th>PRI_met_sumet</th>\n",
       "      <th>PRI_jet_num</th>\n",
       "      <th>PRI_jet_leading_pt</th>\n",
       "      <th>PRI_jet_leading_eta</th>\n",
       "      <th>PRI_jet_leading_phi</th>\n",
       "      <th>PRI_jet_subleading_pt</th>\n",
       "      <th>PRI_jet_subleading_eta</th>\n",
       "      <th>PRI_jet_subleading_phi</th>\n",
       "      <th>PRI_jet_all_pt</th>\n",
       "    </tr>\n",
       "  </thead>\n",
       "  <tbody>\n",
       "    <tr>\n",
       "      <th>0</th>\n",
       "      <td>350000</td>\n",
       "      <td>?</td>\n",
       "      <td>-999.313507</td>\n",
       "      <td>87.826337</td>\n",
       "      <td>62.996786</td>\n",
       "      <td>3.445537</td>\n",
       "      <td>-998.206178</td>\n",
       "      <td>-999.255479</td>\n",
       "      <td>-998.185191</td>\n",
       "      <td>2.053598</td>\n",
       "      <td>...</td>\n",
       "      <td>-0.046573</td>\n",
       "      <td>94.129632</td>\n",
       "      <td>-0.083393</td>\n",
       "      <td>-1003.042161</td>\n",
       "      <td>-996.344262</td>\n",
       "      <td>-996.340544</td>\n",
       "      <td>-1000.327116</td>\n",
       "      <td>-998.155610</td>\n",
       "      <td>-998.151046</td>\n",
       "      <td>-9.596692</td>\n",
       "    </tr>\n",
       "    <tr>\n",
       "      <th>1</th>\n",
       "      <td>350001</td>\n",
       "      <td>?</td>\n",
       "      <td>105.878379</td>\n",
       "      <td>39.827035</td>\n",
       "      <td>78.463781</td>\n",
       "      <td>57.432250</td>\n",
       "      <td>-998.534304</td>\n",
       "      <td>-998.745688</td>\n",
       "      <td>-998.635804</td>\n",
       "      <td>2.298334</td>\n",
       "      <td>...</td>\n",
       "      <td>-0.000693</td>\n",
       "      <td>177.207397</td>\n",
       "      <td>0.844583</td>\n",
       "      <td>52.816502</td>\n",
       "      <td>-3.826337</td>\n",
       "      <td>-3.847365</td>\n",
       "      <td>-1002.779514</td>\n",
       "      <td>-998.495823</td>\n",
       "      <td>-998.495018</td>\n",
       "      <td>49.971350</td>\n",
       "    </tr>\n",
       "    <tr>\n",
       "      <th>2</th>\n",
       "      <td>350002</td>\n",
       "      <td>?</td>\n",
       "      <td>117.604228</td>\n",
       "      <td>48.151296</td>\n",
       "      <td>87.181584</td>\n",
       "      <td>14.473287</td>\n",
       "      <td>-999.144604</td>\n",
       "      <td>-998.252831</td>\n",
       "      <td>-999.191254</td>\n",
       "      <td>2.863133</td>\n",
       "      <td>...</td>\n",
       "      <td>-0.018005</td>\n",
       "      <td>129.857268</td>\n",
       "      <td>-0.003315</td>\n",
       "      <td>-999.650326</td>\n",
       "      <td>-998.830319</td>\n",
       "      <td>-998.831189</td>\n",
       "      <td>-999.436746</td>\n",
       "      <td>-999.159323</td>\n",
       "      <td>-999.160941</td>\n",
       "      <td>-1.310420</td>\n",
       "    </tr>\n",
       "    <tr>\n",
       "      <th>3</th>\n",
       "      <td>350003</td>\n",
       "      <td>?</td>\n",
       "      <td>136.924130</td>\n",
       "      <td>49.648821</td>\n",
       "      <td>91.642041</td>\n",
       "      <td>21.979736</td>\n",
       "      <td>-999.528075</td>\n",
       "      <td>-999.136922</td>\n",
       "      <td>-999.493119</td>\n",
       "      <td>2.952134</td>\n",
       "      <td>...</td>\n",
       "      <td>-0.017242</td>\n",
       "      <td>151.755920</td>\n",
       "      <td>0.108462</td>\n",
       "      <td>-995.067268</td>\n",
       "      <td>-1001.275388</td>\n",
       "      <td>-1001.277091</td>\n",
       "      <td>-996.650166</td>\n",
       "      <td>-999.570601</td>\n",
       "      <td>-999.573014</td>\n",
       "      <td>10.626741</td>\n",
       "    </tr>\n",
       "    <tr>\n",
       "      <th>4</th>\n",
       "      <td>350004</td>\n",
       "      <td>?</td>\n",
       "      <td>74.810040</td>\n",
       "      <td>81.782869</td>\n",
       "      <td>163.295174</td>\n",
       "      <td>289.396701</td>\n",
       "      <td>14.347399</td>\n",
       "      <td>537.136044</td>\n",
       "      <td>11.468196</td>\n",
       "      <td>3.322684</td>\n",
       "      <td>...</td>\n",
       "      <td>0.021757</td>\n",
       "      <td>833.457127</td>\n",
       "      <td>4.641016</td>\n",
       "      <td>271.044506</td>\n",
       "      <td>-9.567698</td>\n",
       "      <td>-9.602550</td>\n",
       "      <td>143.603728</td>\n",
       "      <td>10.967215</td>\n",
       "      <td>10.947979</td>\n",
       "      <td>472.607369</td>\n",
       "    </tr>\n",
       "  </tbody>\n",
       "</table>\n",
       "<p>5 rows × 32 columns</p>\n",
       "</div>"
      ],
      "text/plain": [
       "       Id Prediction  DER_mass_MMC  DER_mass_transverse_met_lep  DER_mass_vis  \\\n",
       "0  350000          ?   -999.313507                    87.826337     62.996786   \n",
       "1  350001          ?    105.878379                    39.827035     78.463781   \n",
       "2  350002          ?    117.604228                    48.151296     87.181584   \n",
       "3  350003          ?    136.924130                    49.648821     91.642041   \n",
       "4  350004          ?     74.810040                    81.782869    163.295174   \n",
       "\n",
       "     DER_pt_h  DER_deltaeta_jet_jet  DER_mass_jet_jet  DER_prodeta_jet_jet  \\\n",
       "0    3.445537           -998.206178       -999.255479          -998.185191   \n",
       "1   57.432250           -998.534304       -998.745688          -998.635804   \n",
       "2   14.473287           -999.144604       -998.252831          -999.191254   \n",
       "3   21.979736           -999.528075       -999.136922          -999.493119   \n",
       "4  289.396701             14.347399        537.136044            11.468196   \n",
       "\n",
       "   DER_deltar_tau_lep       ...        PRI_met_phi  PRI_met_sumet  \\\n",
       "0            2.053598       ...          -0.046573      94.129632   \n",
       "1            2.298334       ...          -0.000693     177.207397   \n",
       "2            2.863133       ...          -0.018005     129.857268   \n",
       "3            2.952134       ...          -0.017242     151.755920   \n",
       "4            3.322684       ...           0.021757     833.457127   \n",
       "\n",
       "   PRI_jet_num  PRI_jet_leading_pt  PRI_jet_leading_eta  PRI_jet_leading_phi  \\\n",
       "0    -0.083393        -1003.042161          -996.344262          -996.340544   \n",
       "1     0.844583           52.816502            -3.826337            -3.847365   \n",
       "2    -0.003315         -999.650326          -998.830319          -998.831189   \n",
       "3     0.108462         -995.067268         -1001.275388         -1001.277091   \n",
       "4     4.641016          271.044506            -9.567698            -9.602550   \n",
       "\n",
       "   PRI_jet_subleading_pt  PRI_jet_subleading_eta  PRI_jet_subleading_phi  \\\n",
       "0           -1000.327116             -998.155610             -998.151046   \n",
       "1           -1002.779514             -998.495823             -998.495018   \n",
       "2            -999.436746             -999.159323             -999.160941   \n",
       "3            -996.650166             -999.570601             -999.573014   \n",
       "4             143.603728               10.967215               10.947979   \n",
       "\n",
       "   PRI_jet_all_pt  \n",
       "0       -9.596692  \n",
       "1       49.971350  \n",
       "2       -1.310420  \n",
       "3       10.626741  \n",
       "4      472.607369  \n",
       "\n",
       "[5 rows x 32 columns]"
      ]
     },
     "execution_count": 150,
     "metadata": {},
     "output_type": "execute_result"
    }
   ],
   "source": [
    "pca_test = pd.DataFrame(Mhat)\n",
    "pca_test['Id'] = df_pca_test['Id']\n",
    "pca_test['Prediction'] = df_pca_test['Prediction']\n",
    "pca_test.columns = feat_names + ['Id','Prediction']\n",
    "pca_test = pca_test[['Id','Prediction']+feat_names]\n",
    "pca_test.head()"
   ]
  },
  {
   "cell_type": "code",
   "execution_count": 151,
   "metadata": {
    "collapsed": true
   },
   "outputs": [],
   "source": [
    "pca_test.to_csv('../test_pca.csv',index=False)"
   ]
  },
  {
   "cell_type": "code",
   "execution_count": null,
   "metadata": {
    "collapsed": true
   },
   "outputs": [],
   "source": []
  },
  {
   "cell_type": "code",
   "execution_count": null,
   "metadata": {
    "collapsed": true
   },
   "outputs": [],
   "source": []
  }
 ],
 "metadata": {
  "anaconda-cloud": {},
  "kernelspec": {
   "display_name": "Python [conda root]",
   "language": "python",
   "name": "conda-root-py"
  },
  "language_info": {
   "codemirror_mode": {
    "name": "ipython",
    "version": 3
   },
   "file_extension": ".py",
   "mimetype": "text/x-python",
   "name": "python",
   "nbconvert_exporter": "python",
   "pygments_lexer": "ipython3",
   "version": "3.5.2"
  }
 },
 "nbformat": 4,
 "nbformat_minor": 1
}
