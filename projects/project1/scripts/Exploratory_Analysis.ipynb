{
 "cells": [
  {
   "cell_type": "code",
   "execution_count": 33,
   "metadata": {
    "collapsed": false
   },
   "outputs": [
    {
     "name": "stdout",
     "output_type": "stream",
     "text": [
      "The autoreload extension is already loaded. To reload it, use:\n",
      "  %reload_ext autoreload\n"
     ]
    }
   ],
   "source": [
    "# Useful starting lines\n",
    "%matplotlib inline\n",
    "import numpy as np\n",
    "import matplotlib.pyplot as plt\n",
    "%load_ext autoreload\n",
    "%autoreload 2"
   ]
  },
  {
   "cell_type": "markdown",
   "metadata": {},
   "source": [
    "## Cleaning"
   ]
  },
  {
   "cell_type": "code",
   "execution_count": 50,
   "metadata": {
    "collapsed": false
   },
   "outputs": [],
   "source": [
    "import pandas as pd\n",
    "import seaborn as sns"
   ]
  },
  {
   "cell_type": "code",
   "execution_count": 51,
   "metadata": {
    "collapsed": true
   },
   "outputs": [],
   "source": [
    "df = pd.read_csv('../train.csv')"
   ]
  },
  {
   "cell_type": "code",
   "execution_count": 52,
   "metadata": {
    "collapsed": false
   },
   "outputs": [
    {
     "data": {
      "text/plain": [
       "(250000, 32)"
      ]
     },
     "execution_count": 52,
     "metadata": {},
     "output_type": "execute_result"
    }
   ],
   "source": [
    "df.shape"
   ]
  },
  {
   "cell_type": "code",
   "execution_count": 53,
   "metadata": {
    "collapsed": false
   },
   "outputs": [
    {
     "data": {
      "text/plain": [
       "(85667, 32)"
      ]
     },
     "execution_count": 53,
     "metadata": {},
     "output_type": "execute_result"
    }
   ],
   "source": [
    "df[df.Prediction=='s'].shape"
   ]
  },
  {
   "cell_type": "code",
   "execution_count": 54,
   "metadata": {
    "collapsed": false
   },
   "outputs": [
    {
     "data": {
      "text/plain": [
       "(164333, 32)"
      ]
     },
     "execution_count": 54,
     "metadata": {},
     "output_type": "execute_result"
    }
   ],
   "source": [
    "df[df.Prediction=='b'].shape"
   ]
  },
  {
   "cell_type": "code",
   "execution_count": 55,
   "metadata": {
    "collapsed": false
   },
   "outputs": [],
   "source": [
    "feat_names = [col for col in df.columns if col not in ['Id','Prediction']]\n",
    "\n",
    "for colname in feat_names:\n",
    "    df.loc[df[colname]==-999.000,[colname]]=df[colname][df[colname]!=-999.000].median()"
   ]
  },
  {
   "cell_type": "code",
   "execution_count": 56,
   "metadata": {
    "collapsed": false
   },
   "outputs": [
    {
     "data": {
      "text/html": [
       "<div>\n",
       "<table border=\"1\" class=\"dataframe\">\n",
       "  <thead>\n",
       "    <tr style=\"text-align: right;\">\n",
       "      <th></th>\n",
       "      <th>Id</th>\n",
       "      <th>DER_mass_MMC</th>\n",
       "      <th>DER_mass_transverse_met_lep</th>\n",
       "      <th>DER_mass_vis</th>\n",
       "      <th>DER_pt_h</th>\n",
       "      <th>DER_deltaeta_jet_jet</th>\n",
       "      <th>DER_mass_jet_jet</th>\n",
       "      <th>DER_prodeta_jet_jet</th>\n",
       "      <th>DER_deltar_tau_lep</th>\n",
       "      <th>DER_pt_tot</th>\n",
       "      <th>...</th>\n",
       "      <th>PRI_met_phi</th>\n",
       "      <th>PRI_met_sumet</th>\n",
       "      <th>PRI_jet_num</th>\n",
       "      <th>PRI_jet_leading_pt</th>\n",
       "      <th>PRI_jet_leading_eta</th>\n",
       "      <th>PRI_jet_leading_phi</th>\n",
       "      <th>PRI_jet_subleading_pt</th>\n",
       "      <th>PRI_jet_subleading_eta</th>\n",
       "      <th>PRI_jet_subleading_phi</th>\n",
       "      <th>PRI_jet_all_pt</th>\n",
       "    </tr>\n",
       "  </thead>\n",
       "  <tbody>\n",
       "    <tr>\n",
       "      <th>count</th>\n",
       "      <td>250000.000000</td>\n",
       "      <td>250000.000000</td>\n",
       "      <td>250000.000000</td>\n",
       "      <td>250000.000000</td>\n",
       "      <td>250000.000000</td>\n",
       "      <td>250000.000000</td>\n",
       "      <td>250000.000000</td>\n",
       "      <td>250000.000000</td>\n",
       "      <td>250000.000000</td>\n",
       "      <td>250000.000000</td>\n",
       "      <td>...</td>\n",
       "      <td>250000.000000</td>\n",
       "      <td>250000.000000</td>\n",
       "      <td>250000.000000</td>\n",
       "      <td>250000.000000</td>\n",
       "      <td>250000.000000</td>\n",
       "      <td>250000.000000</td>\n",
       "      <td>250000.000000</td>\n",
       "      <td>250000.000000</td>\n",
       "      <td>250000.000000</td>\n",
       "      <td>250000.000000</td>\n",
       "    </tr>\n",
       "    <tr>\n",
       "      <th>mean</th>\n",
       "      <td>224999.500000</td>\n",
       "      <td>120.417434</td>\n",
       "      <td>49.239819</td>\n",
       "      <td>81.181982</td>\n",
       "      <td>57.895962</td>\n",
       "      <td>2.193104</td>\n",
       "      <td>268.220619</td>\n",
       "      <td>-0.411629</td>\n",
       "      <td>2.373100</td>\n",
       "      <td>18.917332</td>\n",
       "      <td>...</td>\n",
       "      <td>-0.010119</td>\n",
       "      <td>209.797178</td>\n",
       "      <td>0.979176</td>\n",
       "      <td>77.124366</td>\n",
       "      <td>-0.001966</td>\n",
       "      <td>-0.020629</td>\n",
       "      <td>50.739149</td>\n",
       "      <td>-0.010535</td>\n",
       "      <td>-0.001879</td>\n",
       "      <td>73.064591</td>\n",
       "    </tr>\n",
       "    <tr>\n",
       "      <th>std</th>\n",
       "      <td>72168.927986</td>\n",
       "      <td>52.859218</td>\n",
       "      <td>35.344886</td>\n",
       "      <td>40.828691</td>\n",
       "      <td>63.655682</td>\n",
       "      <td>0.948104</td>\n",
       "      <td>224.229668</td>\n",
       "      <td>1.948520</td>\n",
       "      <td>0.782911</td>\n",
       "      <td>22.273494</td>\n",
       "      <td>...</td>\n",
       "      <td>1.812223</td>\n",
       "      <td>126.499506</td>\n",
       "      <td>0.977426</td>\n",
       "      <td>47.939899</td>\n",
       "      <td>1.382703</td>\n",
       "      <td>1.405084</td>\n",
       "      <td>17.792135</td>\n",
       "      <td>1.094446</td>\n",
       "      <td>0.978743</td>\n",
       "      <td>98.015662</td>\n",
       "    </tr>\n",
       "    <tr>\n",
       "      <th>min</th>\n",
       "      <td>100000.000000</td>\n",
       "      <td>9.044000</td>\n",
       "      <td>0.000000</td>\n",
       "      <td>6.329000</td>\n",
       "      <td>0.000000</td>\n",
       "      <td>0.000000</td>\n",
       "      <td>13.602000</td>\n",
       "      <td>-18.066000</td>\n",
       "      <td>0.208000</td>\n",
       "      <td>0.000000</td>\n",
       "      <td>...</td>\n",
       "      <td>-3.142000</td>\n",
       "      <td>13.678000</td>\n",
       "      <td>0.000000</td>\n",
       "      <td>30.000000</td>\n",
       "      <td>-4.499000</td>\n",
       "      <td>-3.142000</td>\n",
       "      <td>30.000000</td>\n",
       "      <td>-4.500000</td>\n",
       "      <td>-3.142000</td>\n",
       "      <td>0.000000</td>\n",
       "    </tr>\n",
       "    <tr>\n",
       "      <th>25%</th>\n",
       "      <td>162499.750000</td>\n",
       "      <td>95.665000</td>\n",
       "      <td>19.241000</td>\n",
       "      <td>59.388750</td>\n",
       "      <td>14.068750</td>\n",
       "      <td>2.107000</td>\n",
       "      <td>225.885000</td>\n",
       "      <td>-0.244000</td>\n",
       "      <td>1.810000</td>\n",
       "      <td>2.841000</td>\n",
       "      <td>...</td>\n",
       "      <td>-1.575000</td>\n",
       "      <td>123.017500</td>\n",
       "      <td>0.000000</td>\n",
       "      <td>57.439000</td>\n",
       "      <td>-0.433000</td>\n",
       "      <td>-0.556000</td>\n",
       "      <td>47.902000</td>\n",
       "      <td>-0.010000</td>\n",
       "      <td>-0.002000</td>\n",
       "      <td>0.000000</td>\n",
       "    </tr>\n",
       "    <tr>\n",
       "      <th>50%</th>\n",
       "      <td>224999.500000</td>\n",
       "      <td>112.406000</td>\n",
       "      <td>46.524000</td>\n",
       "      <td>73.752000</td>\n",
       "      <td>38.467500</td>\n",
       "      <td>2.107000</td>\n",
       "      <td>225.885000</td>\n",
       "      <td>-0.244000</td>\n",
       "      <td>2.491500</td>\n",
       "      <td>12.315500</td>\n",
       "      <td>...</td>\n",
       "      <td>-0.024000</td>\n",
       "      <td>179.739000</td>\n",
       "      <td>1.000000</td>\n",
       "      <td>65.561000</td>\n",
       "      <td>0.000000</td>\n",
       "      <td>-0.033000</td>\n",
       "      <td>47.902000</td>\n",
       "      <td>-0.010000</td>\n",
       "      <td>-0.002000</td>\n",
       "      <td>40.512500</td>\n",
       "    </tr>\n",
       "    <tr>\n",
       "      <th>75%</th>\n",
       "      <td>287499.250000</td>\n",
       "      <td>130.606250</td>\n",
       "      <td>73.598000</td>\n",
       "      <td>92.259000</td>\n",
       "      <td>79.169000</td>\n",
       "      <td>2.107000</td>\n",
       "      <td>225.885000</td>\n",
       "      <td>-0.244000</td>\n",
       "      <td>2.961000</td>\n",
       "      <td>27.591000</td>\n",
       "      <td>...</td>\n",
       "      <td>1.561000</td>\n",
       "      <td>263.379250</td>\n",
       "      <td>2.000000</td>\n",
       "      <td>75.349000</td>\n",
       "      <td>0.433000</td>\n",
       "      <td>0.503000</td>\n",
       "      <td>47.902000</td>\n",
       "      <td>-0.010000</td>\n",
       "      <td>-0.002000</td>\n",
       "      <td>109.933750</td>\n",
       "    </tr>\n",
       "    <tr>\n",
       "      <th>max</th>\n",
       "      <td>349999.000000</td>\n",
       "      <td>1192.026000</td>\n",
       "      <td>690.075000</td>\n",
       "      <td>1349.351000</td>\n",
       "      <td>2834.999000</td>\n",
       "      <td>8.503000</td>\n",
       "      <td>4974.979000</td>\n",
       "      <td>16.690000</td>\n",
       "      <td>5.684000</td>\n",
       "      <td>2834.999000</td>\n",
       "      <td>...</td>\n",
       "      <td>3.142000</td>\n",
       "      <td>2003.976000</td>\n",
       "      <td>3.000000</td>\n",
       "      <td>1120.573000</td>\n",
       "      <td>4.499000</td>\n",
       "      <td>3.141000</td>\n",
       "      <td>721.456000</td>\n",
       "      <td>4.500000</td>\n",
       "      <td>3.142000</td>\n",
       "      <td>1633.433000</td>\n",
       "    </tr>\n",
       "  </tbody>\n",
       "</table>\n",
       "<p>8 rows × 31 columns</p>\n",
       "</div>"
      ],
      "text/plain": [
       "                  Id   DER_mass_MMC  DER_mass_transverse_met_lep  \\\n",
       "count  250000.000000  250000.000000                250000.000000   \n",
       "mean   224999.500000     120.417434                    49.239819   \n",
       "std     72168.927986      52.859218                    35.344886   \n",
       "min    100000.000000       9.044000                     0.000000   \n",
       "25%    162499.750000      95.665000                    19.241000   \n",
       "50%    224999.500000     112.406000                    46.524000   \n",
       "75%    287499.250000     130.606250                    73.598000   \n",
       "max    349999.000000    1192.026000                   690.075000   \n",
       "\n",
       "        DER_mass_vis       DER_pt_h  DER_deltaeta_jet_jet  DER_mass_jet_jet  \\\n",
       "count  250000.000000  250000.000000         250000.000000     250000.000000   \n",
       "mean       81.181982      57.895962              2.193104        268.220619   \n",
       "std        40.828691      63.655682              0.948104        224.229668   \n",
       "min         6.329000       0.000000              0.000000         13.602000   \n",
       "25%        59.388750      14.068750              2.107000        225.885000   \n",
       "50%        73.752000      38.467500              2.107000        225.885000   \n",
       "75%        92.259000      79.169000              2.107000        225.885000   \n",
       "max      1349.351000    2834.999000              8.503000       4974.979000   \n",
       "\n",
       "       DER_prodeta_jet_jet  DER_deltar_tau_lep     DER_pt_tot       ...        \\\n",
       "count        250000.000000       250000.000000  250000.000000       ...         \n",
       "mean             -0.411629            2.373100      18.917332       ...         \n",
       "std               1.948520            0.782911      22.273494       ...         \n",
       "min             -18.066000            0.208000       0.000000       ...         \n",
       "25%              -0.244000            1.810000       2.841000       ...         \n",
       "50%              -0.244000            2.491500      12.315500       ...         \n",
       "75%              -0.244000            2.961000      27.591000       ...         \n",
       "max              16.690000            5.684000    2834.999000       ...         \n",
       "\n",
       "         PRI_met_phi  PRI_met_sumet    PRI_jet_num  PRI_jet_leading_pt  \\\n",
       "count  250000.000000  250000.000000  250000.000000       250000.000000   \n",
       "mean       -0.010119     209.797178       0.979176           77.124366   \n",
       "std         1.812223     126.499506       0.977426           47.939899   \n",
       "min        -3.142000      13.678000       0.000000           30.000000   \n",
       "25%        -1.575000     123.017500       0.000000           57.439000   \n",
       "50%        -0.024000     179.739000       1.000000           65.561000   \n",
       "75%         1.561000     263.379250       2.000000           75.349000   \n",
       "max         3.142000    2003.976000       3.000000         1120.573000   \n",
       "\n",
       "       PRI_jet_leading_eta  PRI_jet_leading_phi  PRI_jet_subleading_pt  \\\n",
       "count        250000.000000        250000.000000          250000.000000   \n",
       "mean             -0.001966            -0.020629              50.739149   \n",
       "std               1.382703             1.405084              17.792135   \n",
       "min              -4.499000            -3.142000              30.000000   \n",
       "25%              -0.433000            -0.556000              47.902000   \n",
       "50%               0.000000            -0.033000              47.902000   \n",
       "75%               0.433000             0.503000              47.902000   \n",
       "max               4.499000             3.141000             721.456000   \n",
       "\n",
       "       PRI_jet_subleading_eta  PRI_jet_subleading_phi  PRI_jet_all_pt  \n",
       "count           250000.000000           250000.000000   250000.000000  \n",
       "mean                -0.010535               -0.001879       73.064591  \n",
       "std                  1.094446                0.978743       98.015662  \n",
       "min                 -4.500000               -3.142000        0.000000  \n",
       "25%                 -0.010000               -0.002000        0.000000  \n",
       "50%                 -0.010000               -0.002000       40.512500  \n",
       "75%                 -0.010000               -0.002000      109.933750  \n",
       "max                  4.500000                3.142000     1633.433000  \n",
       "\n",
       "[8 rows x 31 columns]"
      ]
     },
     "execution_count": 56,
     "metadata": {},
     "output_type": "execute_result"
    }
   ],
   "source": [
    "df.describe()"
   ]
  },
  {
   "cell_type": "code",
   "execution_count": 57,
   "metadata": {
    "collapsed": false,
    "scrolled": true
   },
   "outputs": [
    {
     "data": {
      "text/plain": [
       "(250000, 32)"
      ]
     },
     "execution_count": 57,
     "metadata": {},
     "output_type": "execute_result"
    }
   ],
   "source": [
    "df.shape"
   ]
  },
  {
   "cell_type": "code",
   "execution_count": 58,
   "metadata": {
    "collapsed": false
   },
   "outputs": [
    {
     "data": {
      "text/plain": [
       "0"
      ]
     },
     "execution_count": 58,
     "metadata": {},
     "output_type": "execute_result"
    }
   ],
   "source": [
    "sum(df[\"DER_mass_MMC\"]==-999.00)"
   ]
  },
  {
   "cell_type": "code",
   "execution_count": 59,
   "metadata": {
    "collapsed": false
   },
   "outputs": [],
   "source": [
    "df.to_csv('../train_mod.csv', index=False)"
   ]
  },
  {
   "cell_type": "code",
   "execution_count": null,
   "metadata": {
    "collapsed": true
   },
   "outputs": [],
   "source": []
  },
  {
   "cell_type": "code",
   "execution_count": null,
   "metadata": {
    "collapsed": true
   },
   "outputs": [],
   "source": []
  },
  {
   "cell_type": "code",
   "execution_count": null,
   "metadata": {
    "collapsed": true
   },
   "outputs": [],
   "source": []
  },
  {
   "cell_type": "code",
   "execution_count": null,
   "metadata": {
    "collapsed": true
   },
   "outputs": [],
   "source": []
  },
  {
   "cell_type": "code",
   "execution_count": null,
   "metadata": {
    "collapsed": true
   },
   "outputs": [],
   "source": []
  },
  {
   "cell_type": "code",
   "execution_count": null,
   "metadata": {
    "collapsed": true
   },
   "outputs": [],
   "source": []
  },
  {
   "cell_type": "code",
   "execution_count": null,
   "metadata": {
    "collapsed": true
   },
   "outputs": [],
   "source": []
  },
  {
   "cell_type": "code",
   "execution_count": 59,
   "metadata": {
    "collapsed": false
   },
   "outputs": [],
   "source": [
    "phys_feats = ['Id','Prediction'] + DER_features"
   ]
  },
  {
   "cell_type": "code",
   "execution_count": 60,
   "metadata": {
    "collapsed": false
   },
   "outputs": [],
   "source": [
    "df_phys = df[phys_feats]"
   ]
  },
  {
   "cell_type": "code",
   "execution_count": 62,
   "metadata": {
    "collapsed": false
   },
   "outputs": [],
   "source": [
    "df_phys.to_csv('../train_phys.csv', index=False)"
   ]
  },
  {
   "cell_type": "code",
   "execution_count": 66,
   "metadata": {
    "collapsed": false
   },
   "outputs": [
    {
     "data": {
      "text/plain": [
       "(250000, 13)"
      ]
     },
     "execution_count": 66,
     "metadata": {},
     "output_type": "execute_result"
    }
   ],
   "source": [
    "df[DER_features].as_matrix().shape"
   ]
  },
  {
   "cell_type": "code",
   "execution_count": 78,
   "metadata": {
    "collapsed": false
   },
   "outputs": [],
   "source": [
    "test = pd.read_csv('../test.csv')\n",
    "test_phys = test[phys_feats]"
   ]
  },
  {
   "cell_type": "code",
   "execution_count": 82,
   "metadata": {
    "collapsed": false
   },
   "outputs": [],
   "source": [
    "test_phys.to_csv('../test_phys.csv',index=False)"
   ]
  },
  {
   "cell_type": "markdown",
   "metadata": {},
   "source": [
    "## PCA train"
   ]
  },
  {
   "cell_type": "code",
   "execution_count": 11,
   "metadata": {
    "collapsed": false
   },
   "outputs": [
    {
     "name": "stdout",
     "output_type": "stream",
     "text": [
      "Using all PCs, MSE = 3.52782E-25\n",
      "Using first 20 PCs, MSE = 0.150423\n"
     ]
    }
   ],
   "source": [
    "M = df[feat_names].as_matrix()\n",
    "U, s, Vt = np.linalg.svd(M, full_matrices=False)\n",
    "V = Vt.T\n",
    "\n",
    "# PCs are already sorted by descending order \n",
    "# of the singular values (i.e. by the\n",
    "# proportion of total variance they explain)\n",
    "\n",
    "# if we use all of the PCs we can reconstruct the noisy signal perfectly\n",
    "S = np.diag(s)\n",
    "Mhat = np.dot(U, np.dot(S, V.T))\n",
    "print(\"Using all PCs, MSE = %.6G\" %(np.mean((M - Mhat)**2)))\n",
    "\n",
    "# if we use only the first 20 PCs the reconstruction is less accurate\n",
    "Mhat2 = np.dot(U[:, :20], np.dot(S[:20, :20], V[:,:20].T))\n",
    "print(\"Using first 20 PCs, MSE = %.6G\" %(np.mean((M - Mhat2)**2)))"
   ]
  },
  {
   "cell_type": "code",
   "execution_count": 12,
   "metadata": {
    "collapsed": false
   },
   "outputs": [
    {
     "data": {
      "text/plain": [
       "array([ 0.8231826 ,  0.93230183,  0.97205019,  0.97924848,  0.98508109,\n",
       "        0.98984158,  0.99247884,  0.99494948,  0.99635745,  0.99760283,\n",
       "        0.99863844,  0.99941667,  0.99992348,  0.99993718,  0.99994968,\n",
       "        0.99995916,  0.99996818,  0.99997438,  0.99997951,  0.99998454,\n",
       "        0.99998818,  0.99999129,  0.9999941 ,  0.99999642,  0.99999859,\n",
       "        0.99999922,  0.99999964,  0.99999991,  1.        ,  1.        ])"
      ]
     },
     "execution_count": 12,
     "metadata": {},
     "output_type": "execute_result"
    }
   ],
   "source": [
    "singulars = np.diag(S)**2\n",
    "singulars.cumsum()/singulars.sum()"
   ]
  },
  {
   "cell_type": "code",
   "execution_count": 13,
   "metadata": {
    "collapsed": false
   },
   "outputs": [
    {
     "data": {
      "text/plain": [
       "(250000, 20)"
      ]
     },
     "execution_count": 13,
     "metadata": {},
     "output_type": "execute_result"
    }
   ],
   "source": [
    "up_to = 20\n",
    "Mhat = np.dot(U[:, :up_to], np.sqrt(S[:up_to, :up_to]))\n",
    "Mhat.shape"
   ]
  },
  {
   "cell_type": "code",
   "execution_count": 14,
   "metadata": {
    "collapsed": false
   },
   "outputs": [
    {
     "data": {
      "text/plain": [
       "(30, 20)"
      ]
     },
     "execution_count": 14,
     "metadata": {},
     "output_type": "execute_result"
    }
   ],
   "source": [
    "PCS_train = np.dot(np.sqrt(S[:up_to, :up_to]), V[:,:up_to].T).T\n",
    "PCS_train.shape"
   ]
  },
  {
   "cell_type": "code",
   "execution_count": 15,
   "metadata": {
    "collapsed": false
   },
   "outputs": [
    {
     "data": {
      "text/html": [
       "<div>\n",
       "<table border=\"1\" class=\"dataframe\">\n",
       "  <thead>\n",
       "    <tr style=\"text-align: right;\">\n",
       "      <th></th>\n",
       "      <th>Id</th>\n",
       "      <th>Prediction</th>\n",
       "      <th>DER_mass_MMC</th>\n",
       "      <th>DER_mass_transverse_met_lep</th>\n",
       "      <th>DER_mass_vis</th>\n",
       "      <th>DER_pt_h</th>\n",
       "      <th>DER_deltaeta_jet_jet</th>\n",
       "      <th>DER_mass_jet_jet</th>\n",
       "      <th>DER_prodeta_jet_jet</th>\n",
       "      <th>DER_deltar_tau_lep</th>\n",
       "      <th>...</th>\n",
       "      <th>PRI_met_phi</th>\n",
       "      <th>PRI_met_sumet</th>\n",
       "      <th>PRI_jet_num</th>\n",
       "      <th>PRI_jet_leading_pt</th>\n",
       "      <th>PRI_jet_leading_eta</th>\n",
       "      <th>PRI_jet_leading_phi</th>\n",
       "      <th>PRI_jet_subleading_pt</th>\n",
       "      <th>PRI_jet_subleading_eta</th>\n",
       "      <th>PRI_jet_subleading_phi</th>\n",
       "      <th>PRI_jet_all_pt</th>\n",
       "    </tr>\n",
       "  </thead>\n",
       "  <tbody>\n",
       "    <tr>\n",
       "      <th>0</th>\n",
       "      <td>100000</td>\n",
       "      <td>s</td>\n",
       "      <td>138.470</td>\n",
       "      <td>51.655</td>\n",
       "      <td>97.827</td>\n",
       "      <td>27.980</td>\n",
       "      <td>0.910</td>\n",
       "      <td>124.711</td>\n",
       "      <td>2.666</td>\n",
       "      <td>3.064</td>\n",
       "      <td>...</td>\n",
       "      <td>-0.277</td>\n",
       "      <td>258.733</td>\n",
       "      <td>2.0</td>\n",
       "      <td>67.435</td>\n",
       "      <td>2.150</td>\n",
       "      <td>0.444</td>\n",
       "      <td>46.062</td>\n",
       "      <td>1.24</td>\n",
       "      <td>-2.475</td>\n",
       "      <td>113.497</td>\n",
       "    </tr>\n",
       "    <tr>\n",
       "      <th>1</th>\n",
       "      <td>100001</td>\n",
       "      <td>b</td>\n",
       "      <td>160.937</td>\n",
       "      <td>68.768</td>\n",
       "      <td>103.235</td>\n",
       "      <td>48.146</td>\n",
       "      <td>2.107</td>\n",
       "      <td>225.885</td>\n",
       "      <td>-0.244</td>\n",
       "      <td>3.473</td>\n",
       "      <td>...</td>\n",
       "      <td>-1.916</td>\n",
       "      <td>164.546</td>\n",
       "      <td>1.0</td>\n",
       "      <td>46.226</td>\n",
       "      <td>0.725</td>\n",
       "      <td>1.158</td>\n",
       "      <td>47.902</td>\n",
       "      <td>-0.01</td>\n",
       "      <td>-0.002</td>\n",
       "      <td>46.226</td>\n",
       "    </tr>\n",
       "    <tr>\n",
       "      <th>2</th>\n",
       "      <td>100002</td>\n",
       "      <td>b</td>\n",
       "      <td>112.406</td>\n",
       "      <td>162.172</td>\n",
       "      <td>125.953</td>\n",
       "      <td>35.635</td>\n",
       "      <td>2.107</td>\n",
       "      <td>225.885</td>\n",
       "      <td>-0.244</td>\n",
       "      <td>3.148</td>\n",
       "      <td>...</td>\n",
       "      <td>-2.186</td>\n",
       "      <td>260.414</td>\n",
       "      <td>1.0</td>\n",
       "      <td>44.251</td>\n",
       "      <td>2.053</td>\n",
       "      <td>-2.028</td>\n",
       "      <td>47.902</td>\n",
       "      <td>-0.01</td>\n",
       "      <td>-0.002</td>\n",
       "      <td>44.251</td>\n",
       "    </tr>\n",
       "    <tr>\n",
       "      <th>3</th>\n",
       "      <td>100003</td>\n",
       "      <td>b</td>\n",
       "      <td>143.905</td>\n",
       "      <td>81.417</td>\n",
       "      <td>80.943</td>\n",
       "      <td>0.414</td>\n",
       "      <td>2.107</td>\n",
       "      <td>225.885</td>\n",
       "      <td>-0.244</td>\n",
       "      <td>3.310</td>\n",
       "      <td>...</td>\n",
       "      <td>0.060</td>\n",
       "      <td>86.062</td>\n",
       "      <td>0.0</td>\n",
       "      <td>65.561</td>\n",
       "      <td>0.000</td>\n",
       "      <td>-0.033</td>\n",
       "      <td>47.902</td>\n",
       "      <td>-0.01</td>\n",
       "      <td>-0.002</td>\n",
       "      <td>0.000</td>\n",
       "    </tr>\n",
       "    <tr>\n",
       "      <th>4</th>\n",
       "      <td>100004</td>\n",
       "      <td>b</td>\n",
       "      <td>175.864</td>\n",
       "      <td>16.915</td>\n",
       "      <td>134.805</td>\n",
       "      <td>16.405</td>\n",
       "      <td>2.107</td>\n",
       "      <td>225.885</td>\n",
       "      <td>-0.244</td>\n",
       "      <td>3.891</td>\n",
       "      <td>...</td>\n",
       "      <td>-0.871</td>\n",
       "      <td>53.131</td>\n",
       "      <td>0.0</td>\n",
       "      <td>65.561</td>\n",
       "      <td>0.000</td>\n",
       "      <td>-0.033</td>\n",
       "      <td>47.902</td>\n",
       "      <td>-0.01</td>\n",
       "      <td>-0.002</td>\n",
       "      <td>0.000</td>\n",
       "    </tr>\n",
       "  </tbody>\n",
       "</table>\n",
       "<p>5 rows × 32 columns</p>\n",
       "</div>"
      ],
      "text/plain": [
       "       Id Prediction  DER_mass_MMC  DER_mass_transverse_met_lep  DER_mass_vis  \\\n",
       "0  100000          s       138.470                       51.655        97.827   \n",
       "1  100001          b       160.937                       68.768       103.235   \n",
       "2  100002          b       112.406                      162.172       125.953   \n",
       "3  100003          b       143.905                       81.417        80.943   \n",
       "4  100004          b       175.864                       16.915       134.805   \n",
       "\n",
       "   DER_pt_h  DER_deltaeta_jet_jet  DER_mass_jet_jet  DER_prodeta_jet_jet  \\\n",
       "0    27.980                 0.910           124.711                2.666   \n",
       "1    48.146                 2.107           225.885               -0.244   \n",
       "2    35.635                 2.107           225.885               -0.244   \n",
       "3     0.414                 2.107           225.885               -0.244   \n",
       "4    16.405                 2.107           225.885               -0.244   \n",
       "\n",
       "   DER_deltar_tau_lep       ...        PRI_met_phi  PRI_met_sumet  \\\n",
       "0               3.064       ...             -0.277        258.733   \n",
       "1               3.473       ...             -1.916        164.546   \n",
       "2               3.148       ...             -2.186        260.414   \n",
       "3               3.310       ...              0.060         86.062   \n",
       "4               3.891       ...             -0.871         53.131   \n",
       "\n",
       "   PRI_jet_num  PRI_jet_leading_pt  PRI_jet_leading_eta  PRI_jet_leading_phi  \\\n",
       "0          2.0              67.435                2.150                0.444   \n",
       "1          1.0              46.226                0.725                1.158   \n",
       "2          1.0              44.251                2.053               -2.028   \n",
       "3          0.0              65.561                0.000               -0.033   \n",
       "4          0.0              65.561                0.000               -0.033   \n",
       "\n",
       "   PRI_jet_subleading_pt  PRI_jet_subleading_eta  PRI_jet_subleading_phi  \\\n",
       "0                 46.062                    1.24                  -2.475   \n",
       "1                 47.902                   -0.01                  -0.002   \n",
       "2                 47.902                   -0.01                  -0.002   \n",
       "3                 47.902                   -0.01                  -0.002   \n",
       "4                 47.902                   -0.01                  -0.002   \n",
       "\n",
       "   PRI_jet_all_pt  \n",
       "0         113.497  \n",
       "1          46.226  \n",
       "2          44.251  \n",
       "3           0.000  \n",
       "4           0.000  \n",
       "\n",
       "[5 rows x 32 columns]"
      ]
     },
     "execution_count": 15,
     "metadata": {},
     "output_type": "execute_result"
    }
   ],
   "source": [
    "df.head()"
   ]
  },
  {
   "cell_type": "code",
   "execution_count": 16,
   "metadata": {
    "collapsed": false
   },
   "outputs": [
    {
     "data": {
      "text/html": [
       "<div>\n",
       "<table border=\"1\" class=\"dataframe\">\n",
       "  <thead>\n",
       "    <tr style=\"text-align: right;\">\n",
       "      <th></th>\n",
       "      <th>Id</th>\n",
       "      <th>Prediction</th>\n",
       "      <th>DER_mass_MMC</th>\n",
       "      <th>DER_mass_transverse_met_lep</th>\n",
       "      <th>DER_mass_vis</th>\n",
       "      <th>DER_pt_h</th>\n",
       "      <th>DER_deltaeta_jet_jet</th>\n",
       "      <th>DER_mass_jet_jet</th>\n",
       "      <th>DER_prodeta_jet_jet</th>\n",
       "      <th>DER_deltar_tau_lep</th>\n",
       "      <th>...</th>\n",
       "      <th>DER_pt_ratio_lep_tau</th>\n",
       "      <th>DER_met_phi_centrality</th>\n",
       "      <th>DER_lep_eta_centrality</th>\n",
       "      <th>PRI_tau_pt</th>\n",
       "      <th>PRI_tau_eta</th>\n",
       "      <th>PRI_tau_phi</th>\n",
       "      <th>PRI_lep_pt</th>\n",
       "      <th>PRI_lep_eta</th>\n",
       "      <th>PRI_lep_phi</th>\n",
       "      <th>PRI_met</th>\n",
       "    </tr>\n",
       "  </thead>\n",
       "  <tbody>\n",
       "    <tr>\n",
       "      <th>0</th>\n",
       "      <td>100000</td>\n",
       "      <td>s</td>\n",
       "      <td>-0.769838</td>\n",
       "      <td>-0.543040</td>\n",
       "      <td>-0.254366</td>\n",
       "      <td>0.122660</td>\n",
       "      <td>-0.292200</td>\n",
       "      <td>-0.290423</td>\n",
       "      <td>-0.066440</td>\n",
       "      <td>0.045273</td>\n",
       "      <td>...</td>\n",
       "      <td>-0.031438</td>\n",
       "      <td>0.159607</td>\n",
       "      <td>0.044618</td>\n",
       "      <td>0.065721</td>\n",
       "      <td>0.017606</td>\n",
       "      <td>0.034698</td>\n",
       "      <td>0.110437</td>\n",
       "      <td>-0.005449</td>\n",
       "      <td>-0.002059</td>\n",
       "      <td>-0.083173</td>\n",
       "    </tr>\n",
       "    <tr>\n",
       "      <th>1</th>\n",
       "      <td>100001</td>\n",
       "      <td>b</td>\n",
       "      <td>-0.746935</td>\n",
       "      <td>-0.021490</td>\n",
       "      <td>-0.450921</td>\n",
       "      <td>-0.120646</td>\n",
       "      <td>0.002360</td>\n",
       "      <td>0.013581</td>\n",
       "      <td>-0.171292</td>\n",
       "      <td>-0.011218</td>\n",
       "      <td>...</td>\n",
       "      <td>0.014835</td>\n",
       "      <td>-0.079058</td>\n",
       "      <td>-0.145778</td>\n",
       "      <td>-0.056469</td>\n",
       "      <td>0.099484</td>\n",
       "      <td>0.038748</td>\n",
       "      <td>0.066410</td>\n",
       "      <td>0.007465</td>\n",
       "      <td>-0.009017</td>\n",
       "      <td>0.000586</td>\n",
       "    </tr>\n",
       "    <tr>\n",
       "      <th>2</th>\n",
       "      <td>100002</td>\n",
       "      <td>b</td>\n",
       "      <td>-0.904274</td>\n",
       "      <td>-0.252481</td>\n",
       "      <td>-0.490765</td>\n",
       "      <td>0.280186</td>\n",
       "      <td>0.386489</td>\n",
       "      <td>-0.602813</td>\n",
       "      <td>-0.082314</td>\n",
       "      <td>-0.715058</td>\n",
       "      <td>...</td>\n",
       "      <td>0.130950</td>\n",
       "      <td>-0.075938</td>\n",
       "      <td>0.228257</td>\n",
       "      <td>-0.069395</td>\n",
       "      <td>0.045872</td>\n",
       "      <td>-0.033533</td>\n",
       "      <td>0.001600</td>\n",
       "      <td>-0.082832</td>\n",
       "      <td>-0.092660</td>\n",
       "      <td>0.018978</td>\n",
       "    </tr>\n",
       "    <tr>\n",
       "      <th>3</th>\n",
       "      <td>100003</td>\n",
       "      <td>b</td>\n",
       "      <td>-0.594008</td>\n",
       "      <td>0.223270</td>\n",
       "      <td>-0.535427</td>\n",
       "      <td>-0.165784</td>\n",
       "      <td>0.165640</td>\n",
       "      <td>-0.199944</td>\n",
       "      <td>0.107131</td>\n",
       "      <td>0.127347</td>\n",
       "      <td>...</td>\n",
       "      <td>-0.139498</td>\n",
       "      <td>0.022658</td>\n",
       "      <td>0.014392</td>\n",
       "      <td>0.074639</td>\n",
       "      <td>0.015575</td>\n",
       "      <td>0.059463</td>\n",
       "      <td>-0.043838</td>\n",
       "      <td>-0.026064</td>\n",
       "      <td>-0.040767</td>\n",
       "      <td>0.008549</td>\n",
       "    </tr>\n",
       "    <tr>\n",
       "      <th>4</th>\n",
       "      <td>100004</td>\n",
       "      <td>b</td>\n",
       "      <td>-0.566397</td>\n",
       "      <td>0.275458</td>\n",
       "      <td>-0.636252</td>\n",
       "      <td>-0.407153</td>\n",
       "      <td>-0.286477</td>\n",
       "      <td>0.171639</td>\n",
       "      <td>0.156505</td>\n",
       "      <td>0.230334</td>\n",
       "      <td>...</td>\n",
       "      <td>0.095634</td>\n",
       "      <td>-0.009633</td>\n",
       "      <td>-0.222229</td>\n",
       "      <td>-0.079581</td>\n",
       "      <td>0.040057</td>\n",
       "      <td>0.000899</td>\n",
       "      <td>-0.027718</td>\n",
       "      <td>-0.015715</td>\n",
       "      <td>-0.011459</td>\n",
       "      <td>-0.000286</td>\n",
       "    </tr>\n",
       "  </tbody>\n",
       "</table>\n",
       "<p>5 rows × 22 columns</p>\n",
       "</div>"
      ],
      "text/plain": [
       "       Id Prediction  DER_mass_MMC  DER_mass_transverse_met_lep  DER_mass_vis  \\\n",
       "0  100000          s     -0.769838                    -0.543040     -0.254366   \n",
       "1  100001          b     -0.746935                    -0.021490     -0.450921   \n",
       "2  100002          b     -0.904274                    -0.252481     -0.490765   \n",
       "3  100003          b     -0.594008                     0.223270     -0.535427   \n",
       "4  100004          b     -0.566397                     0.275458     -0.636252   \n",
       "\n",
       "   DER_pt_h  DER_deltaeta_jet_jet  DER_mass_jet_jet  DER_prodeta_jet_jet  \\\n",
       "0  0.122660             -0.292200         -0.290423            -0.066440   \n",
       "1 -0.120646              0.002360          0.013581            -0.171292   \n",
       "2  0.280186              0.386489         -0.602813            -0.082314   \n",
       "3 -0.165784              0.165640         -0.199944             0.107131   \n",
       "4 -0.407153             -0.286477          0.171639             0.156505   \n",
       "\n",
       "   DER_deltar_tau_lep    ...     DER_pt_ratio_lep_tau  DER_met_phi_centrality  \\\n",
       "0            0.045273    ...                -0.031438                0.159607   \n",
       "1           -0.011218    ...                 0.014835               -0.079058   \n",
       "2           -0.715058    ...                 0.130950               -0.075938   \n",
       "3            0.127347    ...                -0.139498                0.022658   \n",
       "4            0.230334    ...                 0.095634               -0.009633   \n",
       "\n",
       "   DER_lep_eta_centrality  PRI_tau_pt  PRI_tau_eta  PRI_tau_phi  PRI_lep_pt  \\\n",
       "0                0.044618    0.065721     0.017606     0.034698    0.110437   \n",
       "1               -0.145778   -0.056469     0.099484     0.038748    0.066410   \n",
       "2                0.228257   -0.069395     0.045872    -0.033533    0.001600   \n",
       "3                0.014392    0.074639     0.015575     0.059463   -0.043838   \n",
       "4               -0.222229   -0.079581     0.040057     0.000899   -0.027718   \n",
       "\n",
       "   PRI_lep_eta  PRI_lep_phi   PRI_met  \n",
       "0    -0.005449    -0.002059 -0.083173  \n",
       "1     0.007465    -0.009017  0.000586  \n",
       "2    -0.082832    -0.092660  0.018978  \n",
       "3    -0.026064    -0.040767  0.008549  \n",
       "4    -0.015715    -0.011459 -0.000286  \n",
       "\n",
       "[5 rows x 22 columns]"
      ]
     },
     "execution_count": 16,
     "metadata": {},
     "output_type": "execute_result"
    }
   ],
   "source": [
    "##Dummy names for PCA features (must match format)\n",
    "df_pca = pd.DataFrame(Mhat)\n",
    "df_pca['Id'] = df['Id']\n",
    "df_pca['Prediction'] = df['Prediction']\n",
    "df_pca.columns = feat_names[:up_to] + ['Id','Prediction']\n",
    "df_pca = df_pca[['Id','Prediction']+feat_names[:up_to]]\n",
    "df_pca.head()"
   ]
  },
  {
   "cell_type": "code",
   "execution_count": 17,
   "metadata": {
    "collapsed": false
   },
   "outputs": [
    {
     "data": {
      "text/plain": [
       "(250000, 22)"
      ]
     },
     "execution_count": 17,
     "metadata": {},
     "output_type": "execute_result"
    }
   ],
   "source": [
    "df_pca.shape"
   ]
  },
  {
   "cell_type": "code",
   "execution_count": 18,
   "metadata": {
    "collapsed": true
   },
   "outputs": [],
   "source": [
    "df_pca.to_csv('../train_pca.csv',index=False)"
   ]
  },
  {
   "cell_type": "markdown",
   "metadata": {},
   "source": [
    "## PCA test"
   ]
  },
  {
   "cell_type": "code",
   "execution_count": 60,
   "metadata": {
    "collapsed": false
   },
   "outputs": [
    {
     "data": {
      "text/plain": [
       "(568238, 32)"
      ]
     },
     "execution_count": 60,
     "metadata": {},
     "output_type": "execute_result"
    }
   ],
   "source": [
    "df_pca_test = pd.read_csv('../test.csv')\n",
    "df_pca_test.shape"
   ]
  },
  {
   "cell_type": "code",
   "execution_count": 61,
   "metadata": {
    "collapsed": true
   },
   "outputs": [],
   "source": [
    "feat_names = [col for col in df_pca_test.columns if col not in ['Id','Prediction']]"
   ]
  },
  {
   "cell_type": "code",
   "execution_count": 21,
   "metadata": {
    "collapsed": false
   },
   "outputs": [
    {
     "data": {
      "text/plain": [
       "(568238, 30)"
      ]
     },
     "execution_count": 21,
     "metadata": {},
     "output_type": "execute_result"
    }
   ],
   "source": [
    "pca_test = df_pca_test[feat_names].as_matrix()\n",
    "pca_test.shape"
   ]
  },
  {
   "cell_type": "code",
   "execution_count": 22,
   "metadata": {
    "collapsed": false
   },
   "outputs": [
    {
     "data": {
      "text/plain": [
       "(568238, 20)"
      ]
     },
     "execution_count": 22,
     "metadata": {},
     "output_type": "execute_result"
    }
   ],
   "source": [
    "pca_test = np.dot(pca_test,PCS_train)\n",
    "pca_test.shape"
   ]
  },
  {
   "cell_type": "code",
   "execution_count": 23,
   "metadata": {
    "collapsed": false
   },
   "outputs": [
    {
     "data": {
      "text/plain": [
       "(568238, 22)"
      ]
     },
     "execution_count": 23,
     "metadata": {},
     "output_type": "execute_result"
    }
   ],
   "source": [
    "pca_test = pd.DataFrame(pca_test)\n",
    "pca_test['Id'] = df_pca_test['Id']\n",
    "pca_test['Prediction'] = df_pca_test['Prediction']\n",
    "pca_test.columns = feat_names[:up_to] + ['Id','Prediction']\n",
    "pca_test = pca_test[['Id','Prediction'] + feat_names[:up_to]]\n",
    "pca_test.shape"
   ]
  },
  {
   "cell_type": "code",
   "execution_count": 24,
   "metadata": {
    "collapsed": false
   },
   "outputs": [
    {
     "data": {
      "text/html": [
       "<div>\n",
       "<table border=\"1\" class=\"dataframe\">\n",
       "  <thead>\n",
       "    <tr style=\"text-align: right;\">\n",
       "      <th></th>\n",
       "      <th>Id</th>\n",
       "      <th>Prediction</th>\n",
       "      <th>DER_mass_MMC</th>\n",
       "      <th>DER_mass_transverse_met_lep</th>\n",
       "      <th>DER_mass_vis</th>\n",
       "      <th>DER_pt_h</th>\n",
       "      <th>DER_deltaeta_jet_jet</th>\n",
       "      <th>DER_mass_jet_jet</th>\n",
       "      <th>DER_prodeta_jet_jet</th>\n",
       "      <th>DER_deltar_tau_lep</th>\n",
       "      <th>...</th>\n",
       "      <th>DER_pt_ratio_lep_tau</th>\n",
       "      <th>DER_met_phi_centrality</th>\n",
       "      <th>DER_lep_eta_centrality</th>\n",
       "      <th>PRI_tau_pt</th>\n",
       "      <th>PRI_tau_eta</th>\n",
       "      <th>PRI_tau_phi</th>\n",
       "      <th>PRI_lep_pt</th>\n",
       "      <th>PRI_lep_eta</th>\n",
       "      <th>PRI_lep_phi</th>\n",
       "      <th>PRI_met</th>\n",
       "    </tr>\n",
       "  </thead>\n",
       "  <tbody>\n",
       "    <tr>\n",
       "      <th>0</th>\n",
       "      <td>350000</td>\n",
       "      <td>?</td>\n",
       "      <td>-137351.948492</td>\n",
       "      <td>22192.003098</td>\n",
       "      <td>-18029.576894</td>\n",
       "      <td>984.706527</td>\n",
       "      <td>7691.652369</td>\n",
       "      <td>-2615.330753</td>\n",
       "      <td>432.169987</td>\n",
       "      <td>4059.423219</td>\n",
       "      <td>...</td>\n",
       "      <td>-2752.418848</td>\n",
       "      <td>292.968795</td>\n",
       "      <td>311.324087</td>\n",
       "      <td>19.887650</td>\n",
       "      <td>-36.920995</td>\n",
       "      <td>65.359929</td>\n",
       "      <td>-17.140139</td>\n",
       "      <td>-8.339968</td>\n",
       "      <td>-5.822458</td>\n",
       "      <td>1.617966</td>\n",
       "    </tr>\n",
       "    <tr>\n",
       "      <th>1</th>\n",
       "      <td>350001</td>\n",
       "      <td>?</td>\n",
       "      <td>-179867.751988</td>\n",
       "      <td>-2331.484286</td>\n",
       "      <td>-14238.875034</td>\n",
       "      <td>990.215239</td>\n",
       "      <td>700.027427</td>\n",
       "      <td>-1889.995886</td>\n",
       "      <td>102.242738</td>\n",
       "      <td>-3109.724679</td>\n",
       "      <td>...</td>\n",
       "      <td>62.932828</td>\n",
       "      <td>-853.152559</td>\n",
       "      <td>-1014.153567</td>\n",
       "      <td>22.453747</td>\n",
       "      <td>-26.012374</td>\n",
       "      <td>-103.568756</td>\n",
       "      <td>-40.421765</td>\n",
       "      <td>-2.865803</td>\n",
       "      <td>11.091086</td>\n",
       "      <td>-3.942387</td>\n",
       "    </tr>\n",
       "    <tr>\n",
       "      <th>2</th>\n",
       "      <td>350002</td>\n",
       "      <td>?</td>\n",
       "      <td>-153518.811579</td>\n",
       "      <td>14658.983079</td>\n",
       "      <td>-24360.761221</td>\n",
       "      <td>-1357.676677</td>\n",
       "      <td>290.089814</td>\n",
       "      <td>-2164.740222</td>\n",
       "      <td>4242.702420</td>\n",
       "      <td>-640.600716</td>\n",
       "      <td>...</td>\n",
       "      <td>71.616095</td>\n",
       "      <td>-258.511736</td>\n",
       "      <td>415.152368</td>\n",
       "      <td>62.245676</td>\n",
       "      <td>10.791008</td>\n",
       "      <td>-85.966516</td>\n",
       "      <td>-12.843907</td>\n",
       "      <td>-5.712181</td>\n",
       "      <td>12.589230</td>\n",
       "      <td>-2.301353</td>\n",
       "    </tr>\n",
       "    <tr>\n",
       "      <th>3</th>\n",
       "      <td>350003</td>\n",
       "      <td>?</td>\n",
       "      <td>-166742.950919</td>\n",
       "      <td>7399.379408</td>\n",
       "      <td>-25143.885374</td>\n",
       "      <td>3492.205755</td>\n",
       "      <td>-2158.616233</td>\n",
       "      <td>2161.549444</td>\n",
       "      <td>3386.814426</td>\n",
       "      <td>1235.485043</td>\n",
       "      <td>...</td>\n",
       "      <td>2.391499</td>\n",
       "      <td>-286.307508</td>\n",
       "      <td>956.057499</td>\n",
       "      <td>-80.504179</td>\n",
       "      <td>-26.207603</td>\n",
       "      <td>8.967708</td>\n",
       "      <td>1.619740</td>\n",
       "      <td>1.319876</td>\n",
       "      <td>14.007009</td>\n",
       "      <td>-3.670213</td>\n",
       "    </tr>\n",
       "    <tr>\n",
       "      <th>4</th>\n",
       "      <td>350004</td>\n",
       "      <td>?</td>\n",
       "      <td>-632437.284863</td>\n",
       "      <td>-141068.749431</td>\n",
       "      <td>78245.618974</td>\n",
       "      <td>18715.424491</td>\n",
       "      <td>-16951.449081</td>\n",
       "      <td>-32743.328433</td>\n",
       "      <td>3836.826536</td>\n",
       "      <td>7392.087744</td>\n",
       "      <td>...</td>\n",
       "      <td>-524.609267</td>\n",
       "      <td>-973.260609</td>\n",
       "      <td>-990.801357</td>\n",
       "      <td>-25.417641</td>\n",
       "      <td>-30.599906</td>\n",
       "      <td>-78.944951</td>\n",
       "      <td>-75.417246</td>\n",
       "      <td>-3.814281</td>\n",
       "      <td>15.366144</td>\n",
       "      <td>33.129219</td>\n",
       "    </tr>\n",
       "  </tbody>\n",
       "</table>\n",
       "<p>5 rows × 22 columns</p>\n",
       "</div>"
      ],
      "text/plain": [
       "       Id Prediction   DER_mass_MMC  DER_mass_transverse_met_lep  \\\n",
       "0  350000          ? -137351.948492                 22192.003098   \n",
       "1  350001          ? -179867.751988                 -2331.484286   \n",
       "2  350002          ? -153518.811579                 14658.983079   \n",
       "3  350003          ? -166742.950919                  7399.379408   \n",
       "4  350004          ? -632437.284863               -141068.749431   \n",
       "\n",
       "   DER_mass_vis      DER_pt_h  DER_deltaeta_jet_jet  DER_mass_jet_jet  \\\n",
       "0 -18029.576894    984.706527           7691.652369      -2615.330753   \n",
       "1 -14238.875034    990.215239            700.027427      -1889.995886   \n",
       "2 -24360.761221  -1357.676677            290.089814      -2164.740222   \n",
       "3 -25143.885374   3492.205755          -2158.616233       2161.549444   \n",
       "4  78245.618974  18715.424491         -16951.449081     -32743.328433   \n",
       "\n",
       "   DER_prodeta_jet_jet  DER_deltar_tau_lep    ...      DER_pt_ratio_lep_tau  \\\n",
       "0           432.169987         4059.423219    ...              -2752.418848   \n",
       "1           102.242738        -3109.724679    ...                 62.932828   \n",
       "2          4242.702420         -640.600716    ...                 71.616095   \n",
       "3          3386.814426         1235.485043    ...                  2.391499   \n",
       "4          3836.826536         7392.087744    ...               -524.609267   \n",
       "\n",
       "   DER_met_phi_centrality  DER_lep_eta_centrality  PRI_tau_pt  PRI_tau_eta  \\\n",
       "0              292.968795              311.324087   19.887650   -36.920995   \n",
       "1             -853.152559            -1014.153567   22.453747   -26.012374   \n",
       "2             -258.511736              415.152368   62.245676    10.791008   \n",
       "3             -286.307508              956.057499  -80.504179   -26.207603   \n",
       "4             -973.260609             -990.801357  -25.417641   -30.599906   \n",
       "\n",
       "   PRI_tau_phi  PRI_lep_pt  PRI_lep_eta  PRI_lep_phi    PRI_met  \n",
       "0    65.359929  -17.140139    -8.339968    -5.822458   1.617966  \n",
       "1  -103.568756  -40.421765    -2.865803    11.091086  -3.942387  \n",
       "2   -85.966516  -12.843907    -5.712181    12.589230  -2.301353  \n",
       "3     8.967708    1.619740     1.319876    14.007009  -3.670213  \n",
       "4   -78.944951  -75.417246    -3.814281    15.366144  33.129219  \n",
       "\n",
       "[5 rows x 22 columns]"
      ]
     },
     "execution_count": 24,
     "metadata": {},
     "output_type": "execute_result"
    }
   ],
   "source": [
    "pca_test.head()"
   ]
  },
  {
   "cell_type": "code",
   "execution_count": 25,
   "metadata": {
    "collapsed": true
   },
   "outputs": [],
   "source": [
    "pca_test.to_csv('../test_pca.csv',index=False)"
   ]
  },
  {
   "cell_type": "code",
   "execution_count": null,
   "metadata": {
    "collapsed": true
   },
   "outputs": [],
   "source": []
  }
 ],
 "metadata": {
  "anaconda-cloud": {},
  "kernelspec": {
   "display_name": "Python [conda root]",
   "language": "python",
   "name": "conda-root-py"
  },
  "language_info": {
   "codemirror_mode": {
    "name": "ipython",
    "version": 3
   },
   "file_extension": ".py",
   "mimetype": "text/x-python",
   "name": "python",
   "nbconvert_exporter": "python",
   "pygments_lexer": "ipython3",
   "version": "3.5.2"
  }
 },
 "nbformat": 4,
 "nbformat_minor": 1
}
