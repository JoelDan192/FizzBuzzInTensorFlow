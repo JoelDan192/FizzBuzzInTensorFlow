{
 "cells": [
  {
   "cell_type": "code",
   "execution_count": 1,
   "metadata": {
    "collapsed": false
   },
   "outputs": [],
   "source": [
    "# Useful starting lines\n",
    "%matplotlib inline\n",
    "import numpy as np\n",
    "import matplotlib.pyplot as plt\n",
    "%load_ext autoreload\n",
    "%autoreload 2"
   ]
  },
  {
   "cell_type": "markdown",
   "metadata": {},
   "source": [
    "## Load the training data into feature matrix, class labels, and event ids:"
   ]
  },
  {
   "cell_type": "code",
   "execution_count": 2,
   "metadata": {
    "collapsed": false
   },
   "outputs": [],
   "source": [
    "from proj1_helpers import *\n",
    "from helpers import *\n",
    "\n",
    "DATA_TRAIN_PATH = '../train.csv' \n",
    "y, tX, ids = load_csv_data(DATA_TRAIN_PATH)\n",
    "y[y==-1]=0"
   ]
  },
  {
   "cell_type": "code",
   "execution_count": 3,
   "metadata": {
    "collapsed": true
   },
   "outputs": [],
   "source": [
    "ys, tXs = y, tX"
   ]
  },
  {
   "cell_type": "code",
   "execution_count": 4,
   "metadata": {
    "collapsed": false
   },
   "outputs": [],
   "source": [
    "tXs,_,_= standardize(tXs)"
   ]
  },
  {
   "cell_type": "code",
   "execution_count": 5,
   "metadata": {
    "collapsed": false
   },
   "outputs": [],
   "source": [
    "#Optional: normalize rows\n",
    "row_sums = tXs.max(axis=1)\n",
    "tXs = tXs / row_sums[:, np.newaxis]"
   ]
  },
  {
   "cell_type": "code",
   "execution_count": 6,
   "metadata": {
    "collapsed": false
   },
   "outputs": [
    {
     "data": {
      "text/plain": [
       "(250000, 31)"
      ]
     },
     "execution_count": 6,
     "metadata": {},
     "output_type": "execute_result"
    }
   ],
   "source": [
    "tXs.shape"
   ]
  },
  {
   "cell_type": "code",
   "execution_count": 7,
   "metadata": {
    "collapsed": false
   },
   "outputs": [
    {
     "data": {
      "text/plain": [
       "(250000,)"
      ]
     },
     "execution_count": 7,
     "metadata": {},
     "output_type": "execute_result"
    }
   ],
   "source": [
    "ys.shape"
   ]
  },
  {
   "cell_type": "code",
   "execution_count": 8,
   "metadata": {
    "collapsed": false
   },
   "outputs": [
    {
     "data": {
      "text/plain": [
       "array([ 1.,  0.,  0., ...,  1.,  0.,  0.])"
      ]
     },
     "execution_count": 8,
     "metadata": {},
     "output_type": "execute_result"
    }
   ],
   "source": [
    "ys"
   ]
  },
  {
   "cell_type": "markdown",
   "metadata": {},
   "source": [
    "# Crazy Machine Learning"
   ]
  },
  {
   "cell_type": "markdown",
   "metadata": {},
   "source": [
    "## Baselines (all methods should get similar estimates of w and mse)"
   ]
  },
  {
   "cell_type": "markdown",
   "metadata": {},
   "source": [
    "## Fit with Least squares"
   ]
  },
  {
   "cell_type": "code",
   "execution_count": 9,
   "metadata": {
    "collapsed": false
   },
   "outputs": [],
   "source": [
    "from least_squares import least_squares\n",
    "from least_squares import least_squares_GD_auto, least_squares_SGD_simple\n",
    "max_iters = 1000\n",
    "batch_size = 100\n",
    "w0 = np.zeros(tXs.shape[1])\n",
    "gamma = 0.1\n",
    "\n",
    "ls_mse, w_ls = least_squares(ys, tXs)\n",
    "gdls_mse, w_gdls = least_squares_GD_auto(ys, tXs, max_iters, w0)\n",
    "sgdls_mse, w_sgdls = least_squares_SGD_simple(ys, tXs, max_iters, batch_size, w0, gamma)"
   ]
  },
  {
   "cell_type": "code",
   "execution_count": 10,
   "metadata": {
    "collapsed": false
   },
   "outputs": [
    {
     "data": {
      "text/plain": [
       "(0.080860029136592723,\n",
       " array([  6.19262784e-01,  -3.48254381e-03,  -2.00669630e-01,\n",
       "         -2.60510267e-01,   1.25051152e-01,  -5.16690891e+01,\n",
       "          1.14947912e+00,  -3.25619614e+00,   2.65925968e-01,\n",
       "         -1.28704959e-02,  -2.51140179e+02,  -9.88839522e-03,\n",
       "          6.02796865e-02,   6.04582638e+01,   4.90322633e+01,\n",
       "          1.44128890e-02,   1.71586339e-02,   4.80751966e+01,\n",
       "          1.42073082e-02,   1.79759768e-02,   1.10351021e-01,\n",
       "          1.28078416e-02,  -2.49591704e-02,  -1.01030590e-01,\n",
       "         -5.83804524e-02,  -8.61207727e-01,   9.59726966e-01,\n",
       "         -1.15020157e+00,  -2.96211017e+00,  -2.26912268e+00,\n",
       "          2.12680338e+02]))"
      ]
     },
     "execution_count": 10,
     "metadata": {},
     "output_type": "execute_result"
    }
   ],
   "source": [
    "ls_mse, w_ls"
   ]
  },
  {
   "cell_type": "code",
   "execution_count": 11,
   "metadata": {
    "collapsed": false
   },
   "outputs": [
    {
     "data": {
      "text/plain": [
       "(0.081090094634570301,\n",
       " array([ 0.61749087, -0.00350895, -0.20033792, -0.26202847,  0.12719733,\n",
       "        -0.09113578,  0.86489901, -0.1051342 ,  0.26675069, -0.01341465,\n",
       "         0.03105237, -0.00945033,  0.0596616 , -0.09290793,  0.38227467,\n",
       "         0.01393942,  0.01687884,  0.1784187 ,  0.01385662,  0.01756573,\n",
       "         0.11131028,  0.01250298, -0.02464514, -0.10994267,  0.01831884,\n",
       "         0.01313335,  0.01557331, -0.09929778, -0.09599082, -0.09546416,\n",
       "        -0.09091669]))"
      ]
     },
     "execution_count": 11,
     "metadata": {},
     "output_type": "execute_result"
    }
   ],
   "source": [
    "gdls_mse, w_gdls"
   ]
  },
  {
   "cell_type": "code",
   "execution_count": 12,
   "metadata": {
    "collapsed": false
   },
   "outputs": [
    {
     "data": {
      "text/plain": [
       "(0.082362831309290577,\n",
       " array([ 0.60448291,  0.00934108, -0.21317646, -0.1922969 ,  0.0879337 ,\n",
       "        -0.0344858 ,  0.45262074, -0.04375892,  0.23290884, -0.02794791,\n",
       "         0.05733164, -0.02020582,  0.06437941, -0.03690732,  0.32894465,\n",
       "         0.00295182,  0.01854217,  0.15126176,  0.00730847,  0.01309575,\n",
       "         0.12503352,  0.00753471, -0.02478818, -0.1114413 ,  0.01192941,\n",
       "         0.0084104 ,  0.0087273 , -0.03550114, -0.03761911, -0.03775579,\n",
       "        -0.04158819]))"
      ]
     },
     "execution_count": 12,
     "metadata": {},
     "output_type": "execute_result"
    }
   ],
   "source": [
    "sgdls_mse, w_sgdls"
   ]
  },
  {
   "cell_type": "markdown",
   "metadata": {},
   "source": [
    "## Ridge regression"
   ]
  },
  {
   "cell_type": "code",
   "execution_count": 13,
   "metadata": {
    "collapsed": false
   },
   "outputs": [],
   "source": [
    "from ridge_regression import ridge_regression, ridge_regression_auto\n",
    "\n",
    "lambdas = np.logspace(-4, 2, 10)\n",
    "kfold=4\n",
    "\n",
    "ridge_mse, w_ridge = ridge_regression(ys, tXs, 0.5)\n",
    "ridge_kfold_mse, w_ridge_kfold = ridge_regression_auto(ys, tXs, kfold, lambdas)"
   ]
  },
  {
   "cell_type": "code",
   "execution_count": 14,
   "metadata": {
    "collapsed": false
   },
   "outputs": [
    {
     "data": {
      "text/plain": [
       "(0.081059862864771473,\n",
       " array([ 0.6176896 , -0.00362256, -0.20011199, -0.2620972 ,  0.12490116,\n",
       "        -2.51668155,  0.91120865,  1.48549208,  0.26692442, -0.01337131,\n",
       "         0.02365173, -0.00982458,  0.05974819,  1.3620162 ,  0.38322741,\n",
       "         0.01411646,  0.01711299,  0.17982258,  0.01403886,  0.01788381,\n",
       "         0.11081732,  0.01277147, -0.02399423, -0.09282145,  0.13531996,\n",
       "        -0.5642955 ,  0.47548269, -0.33596424, -0.46838878, -0.15653502,\n",
       "        -0.09865429]))"
      ]
     },
     "execution_count": 14,
     "metadata": {},
     "output_type": "execute_result"
    }
   ],
   "source": [
    "ridge_mse, w_ridge"
   ]
  },
  {
   "cell_type": "code",
   "execution_count": 15,
   "metadata": {
    "collapsed": false
   },
   "outputs": [
    {
     "data": {
      "text/plain": [
       "(0.081519485506405504,\n",
       " array([ 0.61488771, -0.00220356, -0.19810031, -0.25308542,  0.12966762,\n",
       "        -0.09105782,  0.83208684, -0.08624911,  0.26201054, -0.01512015,\n",
       "         0.03038207, -0.00886324,  0.06090434, -0.08116381,  0.37753778,\n",
       "         0.01423132,  0.01639259,  0.17039453,  0.01396775,  0.01694925,\n",
       "         0.10690022,  0.01184873, -0.02470014, -0.10277612,  0.03752259,\n",
       "        -0.00313824,  0.0080952 , -0.11736083, -0.09032999, -0.0890103 ,\n",
       "        -0.08880662]))"
      ]
     },
     "execution_count": 15,
     "metadata": {},
     "output_type": "execute_result"
    }
   ],
   "source": [
    "ridge_kfold_mse, w_ridge_kfold"
   ]
  },
  {
   "cell_type": "markdown",
   "metadata": {},
   "source": [
    "## Logistic regression"
   ]
  },
  {
   "cell_type": "code",
   "execution_count": 16,
   "metadata": {
    "collapsed": false
   },
   "outputs": [],
   "source": [
    "from logistic_regression import logistic_regression, reg_logistic_regression\n",
    "\n",
    "#NOTE: loss here is different (includes log terms) so it will differ from mse above\n",
    "\n",
    "gamma=0.1\n",
    "max_iters = 1000\n",
    "lambda_= 0.1\n",
    "\n",
    "#IMPORTANT: it is probably better to use ONLY the regularized version of log_regression for this\n",
    "#dataset as the Newton method depends on the hessian being non-singular (which is guaranteed by lambda_>0)\n",
    "lreg_reg_loss, w_lreg_reg = reg_logistic_regression(ys, tXs, lambda_, gamma, max_iters)"
   ]
  },
  {
   "cell_type": "code",
   "execution_count": null,
   "metadata": {
    "collapsed": false
   },
   "outputs": [
    {
     "data": {
      "text/plain": [
       "(120697.62379056646,\n",
       " array([-1.42437243,  0.37250451, -1.01116998, -2.32468518,  1.21154496,\n",
       "        -4.44274888,  3.53783789,  1.72279415,  2.11202366, -0.24577824,\n",
       "        -0.65038316, -1.45310609,  0.19917875,  3.1290064 ,  1.42673614,\n",
       "        -0.01635715, -0.0425736 ,  2.05350907, -0.01064965, -0.02422896,\n",
       "         0.12833818, -0.03040323, -0.10600138, -0.52151386,  6.72279047,\n",
       "        -0.94788215, -4.81754351,  2.2045548 , -0.94393173, -3.82393953,\n",
       "        -1.55245044]))"
      ]
     },
     "execution_count": 17,
     "metadata": {},
     "output_type": "execute_result"
    }
   ],
   "source": [
    "lreg_reg_loss, w_lreg_reg"
   ]
  },
  {
   "cell_type": "code",
   "execution_count": null,
   "metadata": {
    "collapsed": false
   },
   "outputs": [],
   "source": [
    "from logistic_regression import reg_logistic_regression_auto\n",
    "\n",
    "max_iters = 1000\n",
    "lambdas = np.logspace(-5, 3, 15)\n",
    "kfold=10\n",
    "\n",
    "logreg_auto_loss, w_logreg_auto = reg_logistic_regression_auto(ys, tXs, kfold, max_iters, lambdas)"
   ]
  },
  {
   "cell_type": "code",
   "execution_count": null,
   "metadata": {
    "collapsed": false
   },
   "outputs": [],
   "source": [
    "logreg_auto_loss, w_logreg_auto"
   ]
  },
  {
   "cell_type": "code",
   "execution_count": null,
   "metadata": {
    "collapsed": true
   },
   "outputs": [],
   "source": [
    "weights_log = w_logreg_auto"
   ]
  },
  {
   "cell_type": "code",
   "execution_count": null,
   "metadata": {
    "collapsed": true
   },
   "outputs": [],
   "source": [
    "weights_ls = w_ridge_kfold"
   ]
  },
  {
   "cell_type": "markdown",
   "metadata": {},
   "source": [
    "## Generate predictions and save ouput in csv format for submission:"
   ]
  },
  {
   "cell_type": "code",
   "execution_count": 4,
   "metadata": {
    "collapsed": false
   },
   "outputs": [],
   "source": [
    "DATA_TEST_PATH = '../test.csv' # TODO: download train data and supply path here \n",
    "_, tX_test, ids_test = load_csv_data(DATA_TEST_PATH)"
   ]
  },
  {
   "cell_type": "code",
   "execution_count": 31,
   "metadata": {
    "collapsed": false
   },
   "outputs": [],
   "source": [
    "OUTPUT_PATH_LS = '../submission_ls.csv' # TODO: fill in desired name of output file for submission\n",
    "OUTPUT_PATH_LOG = '../submission_log.csv'\n",
    "\n",
    "y_pred_ls = predict_labels(weights_ls, tX_test)\n",
    "y_pred_log = predict_labels(weights_log, tX_test)\n",
    "create_csv_submission(ids_test, y_pred_ls, OUTPUT_PATH_LS)\n",
    "create_csv_submission(ids_test, y_pred_log, OUTPUT_PATH_LOG)"
   ]
  },
  {
   "cell_type": "code",
   "execution_count": null,
   "metadata": {
    "collapsed": true
   },
   "outputs": [],
   "source": []
  }
 ],
 "metadata": {
  "anaconda-cloud": {},
  "kernelspec": {
   "display_name": "Python [conda root]",
   "language": "python",
   "name": "conda-root-py"
  },
  "language_info": {
   "codemirror_mode": {
    "name": "ipython",
    "version": 3
   },
   "file_extension": ".py",
   "mimetype": "text/x-python",
   "name": "python",
   "nbconvert_exporter": "python",
   "pygments_lexer": "ipython3",
   "version": "3.5.2"
  }
 },
 "nbformat": 4,
 "nbformat_minor": 0
}
