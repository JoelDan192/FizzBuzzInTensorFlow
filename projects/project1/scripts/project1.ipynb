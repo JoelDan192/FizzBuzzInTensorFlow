{
 "cells": [
  {
   "cell_type": "code",
   "execution_count": 20,
   "metadata": {
    "collapsed": false
   },
   "outputs": [
    {
     "name": "stdout",
     "output_type": "stream",
     "text": [
      "The autoreload extension is already loaded. To reload it, use:\n",
      "  %reload_ext autoreload\n"
     ]
    }
   ],
   "source": [
    "# Useful starting lines\n",
    "%matplotlib inline\n",
    "import numpy as np\n",
    "import matplotlib.pyplot as plt\n",
    "%load_ext autoreload\n",
    "%autoreload 2"
   ]
  },
  {
   "cell_type": "markdown",
   "metadata": {},
   "source": [
    "## Load the training data into feature matrix, class labels, and event ids:"
   ]
  },
  {
   "cell_type": "code",
   "execution_count": 21,
   "metadata": {
    "collapsed": false
   },
   "outputs": [],
   "source": [
    "from proj1_helpers import *\n",
    "from helpers import *\n",
    "\n",
    "DATA_TRAIN_PATH = '../train.csv' \n",
    "y, tX, ids = load_csv_data(DATA_TRAIN_PATH)\n",
    "y[y==-1]=0"
   ]
  },
  {
   "cell_type": "code",
   "execution_count": 22,
   "metadata": {
    "collapsed": true
   },
   "outputs": [],
   "source": [
    "ys, tXs = y[:10000], tX[:10000]"
   ]
  },
  {
   "cell_type": "code",
   "execution_count": 23,
   "metadata": {
    "collapsed": false
   },
   "outputs": [],
   "source": [
    "tXs,_,_= standardize(tXs)"
   ]
  },
  {
   "cell_type": "code",
   "execution_count": 24,
   "metadata": {
    "collapsed": false
   },
   "outputs": [],
   "source": [
    "#Optional: normalize rows\n",
    "row_sums = tXs.max(axis=1)\n",
    "tXs = tXs / row_sums[:, np.newaxis]"
   ]
  },
  {
   "cell_type": "code",
   "execution_count": 25,
   "metadata": {
    "collapsed": false
   },
   "outputs": [
    {
     "data": {
      "text/plain": [
       "(10000, 31)"
      ]
     },
     "execution_count": 25,
     "metadata": {},
     "output_type": "execute_result"
    }
   ],
   "source": [
    "tXs.shape"
   ]
  },
  {
   "cell_type": "code",
   "execution_count": 26,
   "metadata": {
    "collapsed": false
   },
   "outputs": [
    {
     "data": {
      "text/plain": [
       "(10000,)"
      ]
     },
     "execution_count": 26,
     "metadata": {},
     "output_type": "execute_result"
    }
   ],
   "source": [
    "ys.shape"
   ]
  },
  {
   "cell_type": "code",
   "execution_count": 27,
   "metadata": {
    "collapsed": false
   },
   "outputs": [
    {
     "data": {
      "text/plain": [
       "array([ 1.,  0.,  0., ...,  0.,  0.,  0.])"
      ]
     },
     "execution_count": 27,
     "metadata": {},
     "output_type": "execute_result"
    }
   ],
   "source": [
    "ys"
   ]
  },
  {
   "cell_type": "markdown",
   "metadata": {},
   "source": [
    "# Crazy Machine Learning"
   ]
  },
  {
   "cell_type": "markdown",
   "metadata": {},
   "source": [
    "## Baselines (all methods should get similar estimates of w and mse)"
   ]
  },
  {
   "cell_type": "markdown",
   "metadata": {},
   "source": [
    "## Fit with Least squares"
   ]
  },
  {
   "cell_type": "code",
   "execution_count": 28,
   "metadata": {
    "collapsed": false
   },
   "outputs": [],
   "source": [
    "from least_squares import least_squares\n",
    "from least_squares import least_squares_GD_auto, least_squares_SGD_simple\n",
    "max_iters = 1000\n",
    "batch_size = 100\n",
    "w0 = np.zeros(tXs.shape[1])\n",
    "gamma = 0.1\n",
    "\n",
    "ls_mse, w_ls = least_squares(ys, tXs)\n",
    "gdls_mse, w_gdls = least_squares_GD_auto(ys, tXs, max_iters, w0)\n",
    "sgdls_mse, w_sgdls = least_squares_SGD_simple(ys, tXs, max_iters, batch_size, w0, gamma)"
   ]
  },
  {
   "cell_type": "code",
   "execution_count": 29,
   "metadata": {
    "collapsed": false
   },
   "outputs": [
    {
     "data": {
      "text/plain": [
       "(0.08043795460684347,\n",
       " array([  6.05986984e-01,  -5.36493795e-03,  -1.69278532e-01,\n",
       "         -2.40287223e-01,   1.63415151e-01,  -5.82518725e+01,\n",
       "          1.17928382e+00,  -2.55228828e+00,   2.68453882e-01,\n",
       "         -4.70594066e-02,  -1.21949068e+03,  -3.35996020e-02,\n",
       "          5.27249712e-02,   6.18017991e+01,   2.33727722e+02,\n",
       "          1.64629362e-02,   1.95790434e-02,   2.28152532e+02,\n",
       "          1.37478240e-02,   2.32536007e-02,   9.47767060e-02,\n",
       "          1.27620611e-02,  -2.71059623e-02,  -2.84194922e-01,\n",
       "         -1.20172611e+00,   1.32103472e+00,  -9.45427846e-02,\n",
       "         -2.46364309e+00,   1.35639825e+00,  -7.42176439e-01,\n",
       "          1.03670847e+03]))"
      ]
     },
     "execution_count": 29,
     "metadata": {},
     "output_type": "execute_result"
    }
   ],
   "source": [
    "ls_mse, w_ls"
   ]
  },
  {
   "cell_type": "code",
   "execution_count": 30,
   "metadata": {
    "collapsed": false
   },
   "outputs": [
    {
     "data": {
      "text/plain": [
       "(0.080778177188342251,\n",
       " array([ 0.6031193 , -0.00587635, -0.16954233, -0.24197138,  0.16111011,\n",
       "        -0.08115267,  0.83292244, -0.09260285,  0.26961974, -0.0427133 ,\n",
       "         0.05102067, -0.03269514,  0.05105174, -0.0822046 ,  0.35900167,\n",
       "         0.01648662,  0.02000055,  0.17944104,  0.01407233,  0.02389174,\n",
       "         0.09575714,  0.0128945 , -0.02699044, -0.19936979,  0.02436379,\n",
       "         0.02633921,  0.0249557 , -0.09458127, -0.08204558, -0.0836128 ,\n",
       "        -0.0602555 ]))"
      ]
     },
     "execution_count": 30,
     "metadata": {},
     "output_type": "execute_result"
    }
   ],
   "source": [
    "gdls_mse, w_gdls"
   ]
  },
  {
   "cell_type": "code",
   "execution_count": 31,
   "metadata": {
    "collapsed": false
   },
   "outputs": [
    {
     "data": {
      "text/plain": [
       "(0.081891328317773196,\n",
       " array([ 0.60988915,  0.01068772, -0.16933106, -0.21107466,  0.13673492,\n",
       "        -0.04222724,  0.57799075, -0.05364886,  0.24840626, -0.05888369,\n",
       "         0.06419354, -0.04265026,  0.04810352, -0.04505105,  0.33828956,\n",
       "         0.01201876,  0.0382405 ,  0.1676331 ,  0.01770627,  0.02045951,\n",
       "         0.08932761,  0.00318591, -0.0288444 , -0.16756028,  0.03347206,\n",
       "         0.02874048,  0.02854373, -0.04461137, -0.04535486, -0.04604459,\n",
       "        -0.03750237]))"
      ]
     },
     "execution_count": 31,
     "metadata": {},
     "output_type": "execute_result"
    }
   ],
   "source": [
    "sgdls_mse, w_sgdls"
   ]
  },
  {
   "cell_type": "markdown",
   "metadata": {},
   "source": [
    "## Ridge regression"
   ]
  },
  {
   "cell_type": "code",
   "execution_count": 32,
   "metadata": {
    "collapsed": false
   },
   "outputs": [],
   "source": [
    "from ridge_regression import ridge_regression, ridge_regression_auto\n",
    "\n",
    "lambdas = np.logspace(-4, 2, 10)\n",
    "kfold=4\n",
    "\n",
    "ridge_mse, w_ridge = ridge_regression(ys, tXs, 0.5)\n",
    "ridge_kfold_mse, w_ridge_kfold = ridge_regression_auto(ys, tXs, kfold, lambdas)"
   ]
  },
  {
   "cell_type": "code",
   "execution_count": 33,
   "metadata": {
    "collapsed": false
   },
   "outputs": [
    {
     "data": {
      "text/plain": [
       "(0.080759242666630551,\n",
       " array([ 0.6031348 , -0.00584155, -0.16922498, -0.24146465,  0.16142178,\n",
       "        -0.18450352,  0.84099999,  0.10867131,  0.26938549, -0.04403986,\n",
       "         0.07062666, -0.0330217 ,  0.05110379,  0.006979  ,  0.35465891,\n",
       "         0.01645947,  0.02004075,  0.17539092,  0.0140373 ,  0.02392209,\n",
       "         0.09520029,  0.01294616, -0.0264119 , -0.21203728, -0.1911731 ,\n",
       "         0.15594298,  0.09884117, -0.49760523,  0.04654313, -0.0117701 ,\n",
       "        -0.03504122]))"
      ]
     },
     "execution_count": 33,
     "metadata": {},
     "output_type": "execute_result"
    }
   ],
   "source": [
    "ridge_mse, w_ridge"
   ]
  },
  {
   "cell_type": "code",
   "execution_count": 34,
   "metadata": {
    "collapsed": false
   },
   "outputs": [
    {
     "data": {
      "text/plain": [
       "(0.083978975145359583,\n",
       " array([ 0.57208563,  0.01778578, -0.16479487, -0.13912013,  0.11259005,\n",
       "        -0.02618144,  0.38504496, -0.03357615,  0.19169618, -0.06490997,\n",
       "         0.06042472, -0.05382508,  0.05895227, -0.02800214,  0.28306795,\n",
       "         0.01990744,  0.01755106,  0.14538693,  0.00980435,  0.02302073,\n",
       "         0.08980825,  0.0141003 , -0.00881318, -0.11216624,  0.00792192,\n",
       "         0.00136441,  0.00107433, -0.02994282, -0.02825819, -0.0282961 ,\n",
       "        -0.02461278]))"
      ]
     },
     "execution_count": 34,
     "metadata": {},
     "output_type": "execute_result"
    }
   ],
   "source": [
    "ridge_kfold_mse, w_ridge_kfold"
   ]
  },
  {
   "cell_type": "markdown",
   "metadata": {},
   "source": [
    "## Logistic regression"
   ]
  },
  {
   "cell_type": "code",
   "execution_count": 45,
   "metadata": {
    "collapsed": false
   },
   "outputs": [],
   "source": [
    "from logistic_regression import logistic_regression, reg_logistic_regression\n",
    "\n",
    "#NOTE: loss here is different (includes log terms) so it will differ from mse above\n",
    "\n",
    "gamma=0.1\n",
    "max_iters = 1000\n",
    "lambda_= 0.1\n",
    "\n",
    "#IMPORTANT: it is probably better to use ONLY the regularized version of log_regression for this\n",
    "#dataset as the Newton method depends on the hessian being non-singular (which is guaranteed by lambda_>0)\n",
    "lreg_reg_loss, w_lreg_reg = reg_logistic_regression(ys, tXs, lambda_, gamma, max_iters)"
   ]
  },
  {
   "cell_type": "code",
   "execution_count": 47,
   "metadata": {
    "collapsed": false
   },
   "outputs": [
    {
     "data": {
      "text/plain": [
       "(4841.6136030729194,\n",
       " array([-1.43504416,  0.36011598, -0.87097469, -2.17110545,  1.56491746,\n",
       "        -0.26584873,  3.24843538,  0.16833175,  2.14887454, -0.3354711 ,\n",
       "        -0.05154205, -1.69963981,  0.12441637,  0.07490535,  1.11648121,\n",
       "        -0.01148605, -0.00955038,  2.01670645, -0.00342607,  0.033599  ,\n",
       "        -0.0313159 , -0.0370895 , -0.18354749, -1.47807421,  0.89346471,\n",
       "         0.31104973, -0.32422014, -1.77233214,  0.18864081, -0.14073795,\n",
       "        -0.75470128]))"
      ]
     },
     "execution_count": 47,
     "metadata": {},
     "output_type": "execute_result"
    }
   ],
   "source": [
    "lreg_reg_loss, w_lreg_reg"
   ]
  },
  {
   "cell_type": "code",
   "execution_count": 50,
   "metadata": {
    "collapsed": false
   },
   "outputs": [],
   "source": [
    "from logistic_regression import reg_logistic_regression_auto\n",
    "\n",
    "max_iters = 1000\n",
    "lambdas = np.logspace(-4, 3, 15)\n",
    "kfold=4\n",
    "\n",
    "logreg_auto_loss, w_logreg_auto = reg_logistic_regression_auto(ys, tXs, kfold, max_iters, lambdas)"
   ]
  },
  {
   "cell_type": "code",
   "execution_count": 51,
   "metadata": {
    "collapsed": false
   },
   "outputs": [
    {
     "data": {
      "text/plain": [
       "(1520.1203670811328,\n",
       " array([ -2.37908435e-01,   1.51036969e-01,  -2.14312255e-01,\n",
       "          5.98176182e-02,   7.47608374e-02,   2.66423073e-02,\n",
       "          6.42889975e-02,   2.58963968e-02,   9.10931742e-02,\n",
       "         -2.05397658e-02,   6.92485274e-02,  -1.27073443e-01,\n",
       "          1.16488692e-01,   2.64439386e-02,   1.79953488e-01,\n",
       "          9.15955490e-03,  -8.93158021e-04,   1.29915632e-02,\n",
       "          5.57300545e-03,   9.78796978e-03,  -1.60280087e-03,\n",
       "         -1.65365933e-04,   5.14833259e-02,   5.73161198e-03,\n",
       "          1.95488310e-02,   1.39433974e-02,   1.39020909e-02,\n",
       "          2.66214658e-02,   2.64152975e-02,   2.63922905e-02,\n",
       "          3.81006271e-02]))"
      ]
     },
     "execution_count": 51,
     "metadata": {},
     "output_type": "execute_result"
    }
   ],
   "source": [
    "logreg_auto_loss, w_logreg_auto"
   ]
  },
  {
   "cell_type": "code",
   "execution_count": null,
   "metadata": {
    "collapsed": true
   },
   "outputs": [],
   "source": []
  },
  {
   "cell_type": "markdown",
   "metadata": {},
   "source": [
    "## Generate predictions and save ouput in csv format for submission:"
   ]
  },
  {
   "cell_type": "code",
   "execution_count": 4,
   "metadata": {
    "collapsed": false
   },
   "outputs": [],
   "source": [
    "DATA_TEST_PATH = '../test.csv' # TODO: download train data and supply path here \n",
    "_, tX_test, ids_test = load_csv_data(DATA_TEST_PATH)"
   ]
  },
  {
   "cell_type": "code",
   "execution_count": 31,
   "metadata": {
    "collapsed": false
   },
   "outputs": [],
   "source": [
    "OUTPUT_PATH = '' # TODO: fill in desired name of output file for submission\n",
    "y_pred = predict_labels(weights, tX_test)\n",
    "create_csv_submission(ids_test, y_pred, OUTPUT_PATH)"
   ]
  },
  {
   "cell_type": "code",
   "execution_count": null,
   "metadata": {
    "collapsed": true
   },
   "outputs": [],
   "source": []
  }
 ],
 "metadata": {
  "anaconda-cloud": {},
  "kernelspec": {
   "display_name": "Python [conda root]",
   "language": "python",
   "name": "conda-root-py"
  },
  "language_info": {
   "codemirror_mode": {
    "name": "ipython",
    "version": 3
   },
   "file_extension": ".py",
   "mimetype": "text/x-python",
   "name": "python",
   "nbconvert_exporter": "python",
   "pygments_lexer": "ipython3",
   "version": "3.5.2"
  }
 },
 "nbformat": 4,
 "nbformat_minor": 0
}
