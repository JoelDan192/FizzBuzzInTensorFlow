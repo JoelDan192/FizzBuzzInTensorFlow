{
 "cells": [
  {
   "cell_type": "code",
   "execution_count": 149,
   "metadata": {
    "collapsed": false
   },
   "outputs": [
    {
     "name": "stdout",
     "output_type": "stream",
     "text": [
      "The autoreload extension is already loaded. To reload it, use:\n",
      "  %reload_ext autoreload\n"
     ]
    }
   ],
   "source": [
    "# Useful starting lines\n",
    "%matplotlib inline\n",
    "import numpy as np\n",
    "import matplotlib.pyplot as plt\n",
    "%load_ext autoreload\n",
    "%autoreload 2"
   ]
  },
  {
   "cell_type": "markdown",
   "metadata": {},
   "source": [
    "## Load the training data into feature matrix, class labels, and event ids:"
   ]
  },
  {
   "cell_type": "code",
   "execution_count": 150,
   "metadata": {
    "collapsed": false
   },
   "outputs": [],
   "source": [
    "from proj1_helpers import *\n",
    "from helpers import *\n",
    "\n",
    "DATA_TRAIN_PATH = '../train_sel.csv' \n",
    "y, tX, ids = load_csv_data(DATA_TRAIN_PATH)\n",
    "y[y==-1]=0"
   ]
  },
  {
   "cell_type": "code",
   "execution_count": 151,
   "metadata": {
    "collapsed": true
   },
   "outputs": [],
   "source": [
    "ys, tXs = y, tX"
   ]
  },
  {
   "cell_type": "code",
   "execution_count": 152,
   "metadata": {
    "collapsed": true
   },
   "outputs": [],
   "source": [
    "#Optional: normalize rows\n",
    "#row_sums = tXs.max(axis=1)\n",
    "#tXs = tXs / row_sums[:, np.newaxis]"
   ]
  },
  {
   "cell_type": "code",
   "execution_count": 153,
   "metadata": {
    "collapsed": false
   },
   "outputs": [],
   "source": [
    "tXs,_,_= standardize(tXs)"
   ]
  },
  {
   "cell_type": "code",
   "execution_count": 154,
   "metadata": {
    "collapsed": false
   },
   "outputs": [
    {
     "data": {
      "text/plain": [
       "(250000, 35)"
      ]
     },
     "execution_count": 154,
     "metadata": {},
     "output_type": "execute_result"
    }
   ],
   "source": [
    "tXs.shape"
   ]
  },
  {
   "cell_type": "code",
   "execution_count": 155,
   "metadata": {
    "collapsed": false
   },
   "outputs": [
    {
     "data": {
      "text/plain": [
       "(250000,)"
      ]
     },
     "execution_count": 155,
     "metadata": {},
     "output_type": "execute_result"
    }
   ],
   "source": [
    "ys.shape"
   ]
  },
  {
   "cell_type": "code",
   "execution_count": 156,
   "metadata": {
    "collapsed": false
   },
   "outputs": [
    {
     "data": {
      "text/plain": [
       "array([ 1.,  0.,  0., ...,  1.,  0.,  0.])"
      ]
     },
     "execution_count": 156,
     "metadata": {},
     "output_type": "execute_result"
    }
   ],
   "source": [
    "ys"
   ]
  },
  {
   "cell_type": "code",
   "execution_count": 157,
   "metadata": {
    "collapsed": false
   },
   "outputs": [
    {
     "data": {
      "text/plain": [
       "array([[ 1.        ,  0.34152231,  0.06833197, ...,  0.20772756,\n",
       "         0.77194154, -0.96374121],\n",
       "       [ 1.        ,  0.76655782,  0.55250482, ..., -0.25832795,\n",
       "         0.84884455, -0.21344514],\n",
       "       [ 1.        , -0.15156202,  3.19515553, ..., -0.25832795,\n",
       "         0.84884455, -0.21344514],\n",
       "       ..., \n",
       "       [ 1.        , -0.28302468,  0.31931645, ..., -0.25832795,\n",
       "        -1.76560715, -0.21344514],\n",
       "       [ 1.        , -0.48177944, -0.84532397, ..., -0.25832795,\n",
       "         0.84884455, -0.21344514],\n",
       "       [ 1.        , -0.15156202,  0.66533608, ..., -0.25832795,\n",
       "         0.83595897, -0.21344514]])"
      ]
     },
     "execution_count": 157,
     "metadata": {},
     "output_type": "execute_result"
    }
   ],
   "source": [
    "tXs"
   ]
  },
  {
   "cell_type": "markdown",
   "metadata": {},
   "source": [
    "# Crazy Machine Learning"
   ]
  },
  {
   "cell_type": "markdown",
   "metadata": {},
   "source": [
    "## Baselines (all methods should get similar estimates of w and mse)"
   ]
  },
  {
   "cell_type": "markdown",
   "metadata": {},
   "source": [
    "## Fit with Least squares"
   ]
  },
  {
   "cell_type": "code",
   "execution_count": 65,
   "metadata": {
    "collapsed": false
   },
   "outputs": [
    {
     "ename": "KeyboardInterrupt",
     "evalue": "",
     "output_type": "error",
     "traceback": [
      "\u001b[0;31m---------------------------------------------------------------------------\u001b[0m",
      "\u001b[0;31mKeyboardInterrupt\u001b[0m                         Traceback (most recent call last)",
      "\u001b[0;32m<ipython-input-65-cad76001eb2c>\u001b[0m in \u001b[0;36m<module>\u001b[0;34m()\u001b[0m\n\u001b[1;32m      8\u001b[0m \u001b[0mls_mse\u001b[0m\u001b[1;33m,\u001b[0m \u001b[0mw_ls\u001b[0m \u001b[1;33m=\u001b[0m \u001b[0mleast_squares\u001b[0m\u001b[1;33m(\u001b[0m\u001b[0mys\u001b[0m\u001b[1;33m,\u001b[0m \u001b[0mtXs\u001b[0m\u001b[1;33m)\u001b[0m\u001b[1;33m\u001b[0m\u001b[0m\n\u001b[1;32m      9\u001b[0m \u001b[0mgdls_mse\u001b[0m\u001b[1;33m,\u001b[0m \u001b[0mw_gdls\u001b[0m \u001b[1;33m=\u001b[0m \u001b[0mleast_squares_GD_auto\u001b[0m\u001b[1;33m(\u001b[0m\u001b[0mys\u001b[0m\u001b[1;33m,\u001b[0m \u001b[0mtXs\u001b[0m\u001b[1;33m,\u001b[0m \u001b[0mmax_iters\u001b[0m\u001b[1;33m,\u001b[0m \u001b[0mw0\u001b[0m\u001b[1;33m)\u001b[0m\u001b[1;33m\u001b[0m\u001b[0m\n\u001b[0;32m---> 10\u001b[0;31m \u001b[0msgdls_mse\u001b[0m\u001b[1;33m,\u001b[0m \u001b[0mw_sgdls\u001b[0m \u001b[1;33m=\u001b[0m \u001b[0mleast_squares_SGD_simple\u001b[0m\u001b[1;33m(\u001b[0m\u001b[0mys\u001b[0m\u001b[1;33m,\u001b[0m \u001b[0mtXs\u001b[0m\u001b[1;33m,\u001b[0m \u001b[0mmax_iters\u001b[0m\u001b[1;33m,\u001b[0m \u001b[0mbatch_size\u001b[0m\u001b[1;33m,\u001b[0m \u001b[0mw0\u001b[0m\u001b[1;33m,\u001b[0m \u001b[0mgamma\u001b[0m\u001b[1;33m)\u001b[0m\u001b[1;33m\u001b[0m\u001b[0m\n\u001b[0m",
      "\u001b[0;32mc:\\Users\\Joel\\ML_course\\projects\\project1\\scripts\\least_squares.py\u001b[0m in \u001b[0;36mleast_squares_SGD_simple\u001b[0;34m(y, tx, max_iters, batch_size, initial_w, gamma)\u001b[0m\n\u001b[1;32m     71\u001b[0m         \u001b[0mg\u001b[0m \u001b[1;33m=\u001b[0m \u001b[0mcompute_stoch_gradient\u001b[0m\u001b[1;33m(\u001b[0m\u001b[0my\u001b[0m\u001b[1;33m,\u001b[0m\u001b[0mtx\u001b[0m\u001b[1;33m,\u001b[0m\u001b[0mw\u001b[0m\u001b[1;33m,\u001b[0m\u001b[0mbatch_size\u001b[0m\u001b[1;33m)\u001b[0m\u001b[1;33m\u001b[0m\u001b[0m\n\u001b[1;32m     72\u001b[0m         \u001b[0mloss_prev\u001b[0m \u001b[1;33m=\u001b[0m \u001b[0mloss\u001b[0m\u001b[1;33m\u001b[0m\u001b[0m\n\u001b[0;32m---> 73\u001b[0;31m         \u001b[0mloss\u001b[0m \u001b[1;33m=\u001b[0m \u001b[0mcosts\u001b[0m\u001b[1;33m.\u001b[0m\u001b[0mcompute_loss\u001b[0m\u001b[1;33m(\u001b[0m\u001b[0my\u001b[0m\u001b[1;33m,\u001b[0m \u001b[0mtx\u001b[0m\u001b[1;33m,\u001b[0m \u001b[0mw\u001b[0m\u001b[1;33m)\u001b[0m\u001b[1;33m\u001b[0m\u001b[0m\n\u001b[0m\u001b[1;32m     74\u001b[0m         \u001b[0mdelta_w\u001b[0m \u001b[1;33m=\u001b[0m \u001b[1;33m-\u001b[0m\u001b[0mg\u001b[0m\u001b[1;33m\u001b[0m\u001b[0m\n\u001b[1;32m     75\u001b[0m         \u001b[1;32mif\u001b[0m \u001b[0mloss_prev\u001b[0m \u001b[1;32mand\u001b[0m \u001b[0mnp\u001b[0m\u001b[1;33m.\u001b[0m\u001b[0mabs\u001b[0m\u001b[1;33m(\u001b[0m\u001b[0mloss\u001b[0m\u001b[1;33m-\u001b[0m\u001b[0mloss_prev\u001b[0m\u001b[1;33m)\u001b[0m \u001b[1;33m<\u001b[0m \u001b[0mthreshold\u001b[0m\u001b[1;33m:\u001b[0m\u001b[1;33m\u001b[0m\u001b[0m\n",
      "\u001b[0;32mc:\\Users\\Joel\\ML_course\\projects\\project1\\scripts\\costs.py\u001b[0m in \u001b[0;36mcompute_loss\u001b[0;34m(y, tx, w)\u001b[0m\n\u001b[1;32m     20\u001b[0m     \u001b[0mYou\u001b[0m \u001b[0mcan\u001b[0m \u001b[0mcalculate\u001b[0m \u001b[0mthe\u001b[0m \u001b[0mloss\u001b[0m \u001b[0musing\u001b[0m \u001b[0mmse\u001b[0m \u001b[1;32mor\u001b[0m \u001b[0mmae\u001b[0m\u001b[1;33m.\u001b[0m\u001b[1;33m\u001b[0m\u001b[0m\n\u001b[1;32m     21\u001b[0m     \"\"\"\n\u001b[0;32m---> 22\u001b[0;31m     \u001b[0me\u001b[0m \u001b[1;33m=\u001b[0m \u001b[0my\u001b[0m \u001b[1;33m-\u001b[0m \u001b[0mtx\u001b[0m\u001b[1;33m.\u001b[0m\u001b[0mdot\u001b[0m\u001b[1;33m(\u001b[0m\u001b[0mw\u001b[0m\u001b[1;33m)\u001b[0m\u001b[1;33m\u001b[0m\u001b[0m\n\u001b[0m\u001b[1;32m     23\u001b[0m     \u001b[1;32mreturn\u001b[0m \u001b[0mcalculate_mse\u001b[0m\u001b[1;33m(\u001b[0m\u001b[0me\u001b[0m\u001b[1;33m)\u001b[0m\u001b[1;33m\u001b[0m\u001b[0m\n\u001b[1;32m     24\u001b[0m     \u001b[1;31m# return calculate_mae(e)\u001b[0m\u001b[1;33m\u001b[0m\u001b[1;33m\u001b[0m\u001b[0m\n",
      "\u001b[0;31mKeyboardInterrupt\u001b[0m: "
     ]
    }
   ],
   "source": [
    "from least_squares import least_squares\n",
    "from least_squares import least_squares_GD_auto, least_squares_SGD_simple\n",
    "max_iters = 1000\n",
    "batch_size = 100\n",
    "w0 = np.zeros(tXs.shape[1])\n",
    "gamma = 0.1\n",
    "\n",
    "ls_mse, w_ls = least_squares(ys, tXs)\n",
    "gdls_mse, w_gdls = least_squares_GD_auto(ys, tXs, max_iters, w0)\n",
    "sgdls_mse, w_sgdls = least_squares_SGD_simple(ys, tXs, max_iters, batch_size, w0, gamma)"
   ]
  },
  {
   "cell_type": "code",
   "execution_count": 9,
   "metadata": {
    "collapsed": false
   },
   "outputs": [
    {
     "data": {
      "text/plain": [
       "(0.08486139962233244,\n",
       " array([  3.42668000e-01,   1.46894135e-02,  -1.26265738e-01,\n",
       "         -1.27395562e-01,  -1.51848412e-02,  -7.00723588e-01,\n",
       "          1.47850821e-01,  -5.39447357e+00,   1.33940431e-01,\n",
       "         -1.22467489e-03,  -1.64408736e+02,  -9.13239441e-02,\n",
       "          5.70198133e-02,   1.02522980e+01,   3.19416930e+01,\n",
       "         -1.59480956e-04,  -9.04421480e-04,   3.14962841e+01,\n",
       "         -2.24320729e-04,   7.71896441e-04,   6.07313503e-02,\n",
       "          1.97634414e-04,  -3.16611736e-02,  -1.03373547e-01,\n",
       "         -5.83278849e-02,   4.93128226e-02,   8.39538546e-02,\n",
       "         -1.67573128e-02,  -1.49179344e+00,  -2.68194046e+00,\n",
       "          1.39235199e+02]))"
      ]
     },
     "execution_count": 9,
     "metadata": {},
     "output_type": "execute_result"
    }
   ],
   "source": [
    "ls_mse, w_ls"
   ]
  },
  {
   "cell_type": "code",
   "execution_count": 10,
   "metadata": {
    "collapsed": false
   },
   "outputs": [
    {
     "data": {
      "text/plain": [
       "(0.085006007482485935,\n",
       " array([  3.42668000e-01,   1.45632449e-02,  -1.26738913e-01,\n",
       "         -1.27530067e-01,  -1.54917793e-02,  -1.20909570e-02,\n",
       "          2.09016254e-01,  -1.98401722e-02,   1.33953007e-01,\n",
       "         -1.00754405e-03,  -4.04023001e-04,  -9.13110485e-02,\n",
       "          5.75444913e-02,  -1.36777979e-02,   9.62282138e-02,\n",
       "         -3.20291370e-04,  -5.34745366e-04,   1.44148765e-01,\n",
       "         -4.47812519e-04,   1.27149540e-03,   6.05219879e-02,\n",
       "          5.17684433e-04,  -3.15704551e-02,  -9.37837120e-02,\n",
       "          2.22635189e-02,   2.76892737e-02,   2.76875391e-02,\n",
       "         -1.42745900e-02,  -1.48432129e-02,  -1.51770128e-02,\n",
       "         -5.49301899e-02]))"
      ]
     },
     "execution_count": 10,
     "metadata": {},
     "output_type": "execute_result"
    }
   ],
   "source": [
    "gdls_mse, w_gdls"
   ]
  },
  {
   "cell_type": "code",
   "execution_count": 11,
   "metadata": {
    "collapsed": false
   },
   "outputs": [
    {
     "data": {
      "text/plain": [
       "(0.086670130876927653,\n",
       " array([ 0.34254363,  0.00679056, -0.12437178, -0.12596976, -0.03086418,\n",
       "        -0.02350184,  0.20678933, -0.03220147,  0.1248132 , -0.01175256,\n",
       "        -0.00063586, -0.07818721,  0.07096755, -0.02526131,  0.10278411,\n",
       "        -0.00949337, -0.00084807,  0.13710221,  0.00447407,  0.00878808,\n",
       "         0.04379585,  0.01167051, -0.0393092 , -0.09340691,  0.02852881,\n",
       "         0.03260432,  0.03215285, -0.02855735, -0.02622768, -0.02656874,\n",
       "        -0.05511662]))"
      ]
     },
     "execution_count": 11,
     "metadata": {},
     "output_type": "execute_result"
    }
   ],
   "source": [
    "sgdls_mse, w_sgdls"
   ]
  },
  {
   "cell_type": "markdown",
   "metadata": {},
   "source": [
    "## Ridge regression"
   ]
  },
  {
   "cell_type": "code",
   "execution_count": 158,
   "metadata": {
    "collapsed": false
   },
   "outputs": [],
   "source": [
    "from ridge_regression import ridge_regression, ridge_regression_auto\n",
    "\n",
    "lambdas = np.logspace(-4, 2, 10)\n",
    "kfold=4\n",
    "\n",
    "ridge_mse, w_ridge = ridge_regression(ys, tXs, 0.5)\n",
    "ridge_kfold_mse, w_ridge_kfold = ridge_regression_auto(ys, tXs, kfold, lambdas)"
   ]
  },
  {
   "cell_type": "code",
   "execution_count": 159,
   "metadata": {
    "collapsed": false
   },
   "outputs": [
    {
     "data": {
      "text/plain": [
       "(0.084553111693793759,\n",
       " array([  3.42667315e-01,   5.53958964e-03,  -1.24810348e-01,\n",
       "         -1.27397204e-01,   1.79716024e-02,  -3.62420960e-03,\n",
       "          6.99700391e-02,  -4.81147498e-03,   1.35278106e-01,\n",
       "         -1.32915778e-02,   2.58387140e-02,  -9.26431107e-02,\n",
       "          6.06772519e-02,  -2.98026172e-02,   8.49865086e-02,\n",
       "         -4.60333454e-04,  -3.73881619e-04,   1.35192681e-01,\n",
       "         -9.28163712e-05,   1.32427309e-03,   4.66288778e-02,\n",
       "          4.97528180e-04,  -2.35396161e-02,  -1.64149890e-02,\n",
       "         -3.76515258e-02,   1.89126471e-04,   2.09990537e-04,\n",
       "         -1.16501288e-02,   8.28816900e-04,  -8.05755532e-04,\n",
       "         -1.75533628e-02,  -3.37552084e-02,   2.36712254e-02,\n",
       "          8.22593077e-03,   7.33568213e-02]))"
      ]
     },
     "execution_count": 159,
     "metadata": {},
     "output_type": "execute_result"
    }
   ],
   "source": [
    "ridge_mse, w_ridge"
   ]
  },
  {
   "cell_type": "code",
   "execution_count": 160,
   "metadata": {
    "collapsed": false
   },
   "outputs": [
    {
     "data": {
      "text/plain": [
       "(0.084697814474257047,\n",
       " array([  3.42236835e-01,   6.25105217e-03,  -1.22973952e-01,\n",
       "         -1.27030409e-01,   1.94331010e-02,  -1.42100486e-03,\n",
       "          6.89876039e-02,  -2.58640479e-03,   1.35158782e-01,\n",
       "         -1.34082932e-02,   2.40929587e-02,  -9.08680399e-02,\n",
       "          6.17703632e-02,  -2.85624395e-02,   8.53282232e-02,\n",
       "         -4.09185993e-04,  -3.96679972e-04,   1.32323450e-01,\n",
       "          1.67007876e-04,   1.01773699e-03,   4.46570363e-02,\n",
       "          2.34162108e-04,  -2.35267193e-02,  -1.33132226e-02,\n",
       "         -3.49518065e-02,   1.02242147e-05,   4.06751375e-04,\n",
       "         -1.03255382e-02,   5.98275299e-04,  -1.27334526e-03,\n",
       "         -2.08427008e-02,  -3.14953185e-02,   2.24863244e-02,\n",
       "          8.08909885e-03,   7.20928952e-02]))"
      ]
     },
     "execution_count": 160,
     "metadata": {},
     "output_type": "execute_result"
    }
   ],
   "source": [
    "ridge_kfold_mse, w_ridge_kfold"
   ]
  },
  {
   "cell_type": "markdown",
   "metadata": {},
   "source": [
    "## Logistic regression"
   ]
  },
  {
   "cell_type": "code",
   "execution_count": 161,
   "metadata": {
    "collapsed": false
   },
   "outputs": [],
   "source": [
    "from logistic_regression import logistic_regression, reg_logistic_regression\n",
    "\n",
    "#NOTE: loss here is different (includes log terms) so it will differ from mse above\n",
    "\n",
    "gamma=0.1\n",
    "max_iters = 1000\n",
    "lambda_= 0.1\n",
    "\n",
    "#IMPORTANT: it is probably better to use ONLY the regularized version of log_regression for this\n",
    "#dataset as the Newton method depends on the hessian being non-singular (which is guaranteed by lambda_>0)\n",
    "lreg_reg_loss, w_lreg_reg = reg_logistic_regression(ys, tXs, lambda_, gamma, max_iters)"
   ]
  },
  {
   "cell_type": "code",
   "execution_count": 162,
   "metadata": {
    "collapsed": false
   },
   "outputs": [
    {
     "data": {
      "text/plain": [
       "(124181.98806164358,\n",
       " array([ -8.86689205e-01,   1.05933604e-01,  -6.74782212e-01,\n",
       "         -1.13761571e+00,   4.43185694e-01,  -5.83966396e-02,\n",
       "          3.13519355e-01,  -3.76775466e-02,   1.05968305e+00,\n",
       "         -9.27606048e-02,   1.38781737e-01,  -7.88433813e-01,\n",
       "          2.49419507e-01,  -1.20364302e-01,   4.67756597e-01,\n",
       "         -3.15705125e-03,  -1.60933751e-03,   9.97281624e-01,\n",
       "         -8.37210082e-04,   7.22597546e-03,   1.00632360e-01,\n",
       "          3.52828103e-04,  -1.35729232e-01,  -8.20909985e-02,\n",
       "         -2.19046670e-01,   2.35058596e-04,  -6.69370532e-05,\n",
       "         -8.03840491e-02,   5.93670870e-03,  -3.43561431e-03,\n",
       "         -1.65809832e-01,   1.87174779e-02,   1.59182110e-01,\n",
       "          4.70552227e-02,   3.63403732e-01]))"
      ]
     },
     "execution_count": 162,
     "metadata": {},
     "output_type": "execute_result"
    }
   ],
   "source": [
    "lreg_reg_loss, w_lreg_reg"
   ]
  },
  {
   "cell_type": "code",
   "execution_count": 163,
   "metadata": {
    "collapsed": false
   },
   "outputs": [],
   "source": [
    "from logistic_regression import reg_logistic_regression_auto\n",
    "\n",
    "max_iters = 1000\n",
    "lambdas = np.logspace(-5, 3, 20)\n",
    "kfold = 15\n",
    "\n",
    "logreg_auto_loss, w_logreg_auto = reg_logistic_regression_auto(ys, tXs, kfold, max_iters, lambdas)"
   ]
  },
  {
   "cell_type": "code",
   "execution_count": 164,
   "metadata": {
    "collapsed": false
   },
   "outputs": [
    {
     "data": {
      "text/plain": [
       "(8317.4347677307287,\n",
       " array([ -8.87562257e-01,   1.06655146e-01,  -6.72385123e-01,\n",
       "         -1.13453611e+00,   4.46857707e-01,  -4.90859739e-02,\n",
       "          2.95385511e-01,  -3.21894284e-02,   1.06046864e+00,\n",
       "         -9.24771935e-02,  -3.91038801e+00,  -7.96292852e-01,\n",
       "          2.49222170e-01,  -1.11626336e-01,   1.24417636e+00,\n",
       "         -1.89310293e-03,  -3.16226326e-03,   1.76995809e+00,\n",
       "          4.04008270e-04,   7.52717765e-03,   9.45044253e-02,\n",
       "         -3.11413196e-03,  -1.31674258e-01,  -7.21375346e-02,\n",
       "         -2.10479631e-01,  -1.84549732e-03,  -5.56397177e-04,\n",
       "         -7.56201324e-02,   6.62352895e-03,  -3.27177642e-03,\n",
       "          3.24787577e+00,   4.36605390e-02,   1.54688574e-01,\n",
       "          4.50082249e-02,   3.56842137e-01]))"
      ]
     },
     "execution_count": 164,
     "metadata": {},
     "output_type": "execute_result"
    }
   ],
   "source": [
    "logreg_auto_loss, w_logreg_auto"
   ]
  },
  {
   "cell_type": "code",
   "execution_count": 165,
   "metadata": {
    "collapsed": true
   },
   "outputs": [],
   "source": [
    "weights_log = w_logreg_auto"
   ]
  },
  {
   "cell_type": "code",
   "execution_count": 166,
   "metadata": {
    "collapsed": true
   },
   "outputs": [],
   "source": [
    "weights_ls = w_ridge_kfold"
   ]
  },
  {
   "cell_type": "code",
   "execution_count": 167,
   "metadata": {
    "collapsed": false
   },
   "outputs": [
    {
     "data": {
      "text/plain": [
       "array([ -8.87562257e-01,   1.06655146e-01,  -6.72385123e-01,\n",
       "        -1.13453611e+00,   4.46857707e-01,  -4.90859739e-02,\n",
       "         2.95385511e-01,  -3.21894284e-02,   1.06046864e+00,\n",
       "        -9.24771935e-02,  -3.91038801e+00,  -7.96292852e-01,\n",
       "         2.49222170e-01,  -1.11626336e-01,   1.24417636e+00,\n",
       "        -1.89310293e-03,  -3.16226326e-03,   1.76995809e+00,\n",
       "         4.04008270e-04,   7.52717765e-03,   9.45044253e-02,\n",
       "        -3.11413196e-03,  -1.31674258e-01,  -7.21375346e-02,\n",
       "        -2.10479631e-01,  -1.84549732e-03,  -5.56397177e-04,\n",
       "        -7.56201324e-02,   6.62352895e-03,  -3.27177642e-03,\n",
       "         3.24787577e+00,   4.36605390e-02,   1.54688574e-01,\n",
       "         4.50082249e-02,   3.56842137e-01])"
      ]
     },
     "execution_count": 167,
     "metadata": {},
     "output_type": "execute_result"
    }
   ],
   "source": [
    "weights_log"
   ]
  },
  {
   "cell_type": "code",
   "execution_count": 168,
   "metadata": {
    "collapsed": false
   },
   "outputs": [
    {
     "data": {
      "text/plain": [
       "array([  3.42236835e-01,   6.25105217e-03,  -1.22973952e-01,\n",
       "        -1.27030409e-01,   1.94331010e-02,  -1.42100486e-03,\n",
       "         6.89876039e-02,  -2.58640479e-03,   1.35158782e-01,\n",
       "        -1.34082932e-02,   2.40929587e-02,  -9.08680399e-02,\n",
       "         6.17703632e-02,  -2.85624395e-02,   8.53282232e-02,\n",
       "        -4.09185993e-04,  -3.96679972e-04,   1.32323450e-01,\n",
       "         1.67007876e-04,   1.01773699e-03,   4.46570363e-02,\n",
       "         2.34162108e-04,  -2.35267193e-02,  -1.33132226e-02,\n",
       "        -3.49518065e-02,   1.02242147e-05,   4.06751375e-04,\n",
       "        -1.03255382e-02,   5.98275299e-04,  -1.27334526e-03,\n",
       "        -2.08427008e-02,  -3.14953185e-02,   2.24863244e-02,\n",
       "         8.08909885e-03,   7.20928952e-02])"
      ]
     },
     "execution_count": 168,
     "metadata": {},
     "output_type": "execute_result"
    }
   ],
   "source": [
    "weights_ls"
   ]
  },
  {
   "cell_type": "markdown",
   "metadata": {},
   "source": [
    "## Generate predictions and save ouput in csv format for submission:"
   ]
  },
  {
   "cell_type": "code",
   "execution_count": 171,
   "metadata": {
    "collapsed": false
   },
   "outputs": [],
   "source": [
    "DATA_TEST_PATH = '../test_sel.csv' # TODO: download train data and supply path here \n",
    "_, tX_test, ids_test = load_csv_data(DATA_TEST_PATH)\n",
    "#Optional: normalize rows\n",
    "#row_sums = tX_test.max(axis=1)\n",
    "#tX_test = tX_test / row_sums[:, np.newaxis]\n",
    "\n",
    "tX_test,_,_= standardize(tX_test)"
   ]
  },
  {
   "cell_type": "code",
   "execution_count": 172,
   "metadata": {
    "collapsed": false
   },
   "outputs": [
    {
     "data": {
      "text/plain": [
       "(568238, 35)"
      ]
     },
     "execution_count": 172,
     "metadata": {},
     "output_type": "execute_result"
    }
   ],
   "source": [
    "tX_test.shape"
   ]
  },
  {
   "cell_type": "code",
   "execution_count": 173,
   "metadata": {
    "collapsed": false
   },
   "outputs": [],
   "source": [
    "OUTPUT_PATH_LS = '../submission_ls.csv' # TODO: fill in desired name of output file for submission\n",
    "OUTPUT_PATH_LOG = '../submission_log.csv'\n",
    "\n",
    "y_pred_ls = predict_labels(weights_ls, tX_test)\n",
    "y_pred_log = predict_labels_logistic(weights_log, tX_test)\n"
   ]
  },
  {
   "cell_type": "code",
   "execution_count": 174,
   "metadata": {
    "collapsed": false
   },
   "outputs": [
    {
     "name": "stdout",
     "output_type": "stream",
     "text": [
      "[-1.  1.  1. ...,  1.  1.  1.]\n",
      "[-1. -1. -1. ...,  1.  1. -1.]\n"
     ]
    }
   ],
   "source": [
    "print(y_pred_ls)\n",
    "print(y_pred_log)"
   ]
  },
  {
   "cell_type": "code",
   "execution_count": 175,
   "metadata": {
    "collapsed": false
   },
   "outputs": [
    {
     "name": "stdout",
     "output_type": "stream",
     "text": [
      "(568238,)\n",
      "(568238,)\n"
     ]
    }
   ],
   "source": [
    "print(y_pred_ls.shape)\n",
    "print(y_pred_log.shape)"
   ]
  },
  {
   "cell_type": "code",
   "execution_count": 176,
   "metadata": {
    "collapsed": true
   },
   "outputs": [],
   "source": [
    "create_csv_submission(ids_test, y_pred_ls, OUTPUT_PATH_LS)\n",
    "create_csv_submission(ids_test, y_pred_log, OUTPUT_PATH_LOG)"
   ]
  },
  {
   "cell_type": "code",
   "execution_count": null,
   "metadata": {
    "collapsed": true
   },
   "outputs": [],
   "source": []
  },
  {
   "cell_type": "markdown",
   "metadata": {},
   "source": [
    "## Boxplot"
   ]
  },
  {
   "cell_type": "code",
   "execution_count": 208,
   "metadata": {
    "collapsed": true
   },
   "outputs": [],
   "source": [
    "PATH_RAW_DATA = '../train.csv'\n",
    "PATH_SEL_DATA = '../train_sel.csv'\n",
    "\n",
    "y_raw, tX_raw, ids = load_csv_data(PATH_RAW_DATA)\n",
    "y_raw[y_raw==-1]=0\n",
    "tX_raw,_,_= standardize(tX_raw)\n",
    "\n",
    "y_sel, tX_sel, ids = load_csv_data(PATH_SEL_DATA)\n",
    "y_sel[y_sel==-1]=0\n",
    "tX_sel,_,_= standardize(tX_sel)"
   ]
  },
  {
   "cell_type": "code",
   "execution_count": 212,
   "metadata": {
    "collapsed": false
   },
   "outputs": [],
   "source": [
    "from logistic_regression import reg_logistic_regression_auto_plot\n",
    "\n",
    "max_iters = 1000\n",
    "lambdas = np.logspace(-5, 2, 10)\n",
    "kfold = 6\n",
    "\n",
    "training_errs_raw, test_errs_raw = reg_logistic_regression_auto_plot(y_raw, tX_raw, kfold, max_iters, lambdas)\n",
    "training_errs_sel, test_errs_sel = reg_logistic_regression_auto_plot(y_sel, tX_sel, kfold, max_iters, lambdas)"
   ]
  },
  {
   "cell_type": "code",
   "execution_count": null,
   "metadata": {
    "collapsed": true
   },
   "outputs": [],
   "source": []
  },
  {
   "cell_type": "code",
   "execution_count": null,
   "metadata": {
    "collapsed": true
   },
   "outputs": [],
   "source": []
  },
  {
   "cell_type": "code",
   "execution_count": 213,
   "metadata": {
    "collapsed": false
   },
   "outputs": [
    {
     "data": {
      "image/png": "[encoded data removed]",
      "text/plain": [
       "<matplotlib.figure.Figure at 0x224239b7d30>"
      ]
     },
     "metadata": {},
     "output_type": "display_data"
    }
   ],
   "source": [
    "\n",
    "\n",
    "fig = plt.figure(1, figsize=(4, 5))\n",
    "\n",
    "# Create an axes instance\n",
    "ax = fig.add_subplot(111)\n",
    "plt.ylabel('Training error on K-fold')\n",
    "\n",
    "## add patch_artist=True option to ax.boxplot() \n",
    "## to get fill color\n",
    "bp = ax.boxplot([training_errs_raw, training_errs_sel], patch_artist=True)\n",
    "ax.set_xticklabels(['Raw', 'Selected_Poly'])\n",
    "ax.get_xaxis().tick_bottom()\n",
    "ax.get_yaxis().tick_left()\n",
    "\n",
    "## change outline color, fill color and linewidth of the boxes\n",
    "for box in bp['boxes']:\n",
    "    # change outline color\n",
    "    box.set( color='#7570b3', linewidth=2)\n",
    "    # change fill color\n",
    "    box.set( facecolor = '#1b9e77' )\n",
    "\n",
    "## change color and linewidth of the whiskers\n",
    "for whisker in bp['whiskers']:\n",
    "    whisker.set(color='#7570b3', linewidth=2)\n",
    "\n",
    "## change color and linewidth of the caps\n",
    "for cap in bp['caps']:\n",
    "    cap.set(color='#7570b3', linewidth=2)\n",
    "\n",
    "## change color and linewidth of the medians\n",
    "for median in bp['medians']:\n",
    "    median.set(color='#b2df8a', linewidth=2)\n",
    "\n",
    "## change the style of fliers and their fill\n",
    "for flier in bp['fliers']:\n",
    "    flier.set(marker='o', color='#e7298a', alpha=0.5)\n",
    "fig.savefig('training_error.jpg', format='jpg',bbox_inches='tight')"
   ]
  },
  {
   "cell_type": "code",
   "execution_count": 214,
   "metadata": {
    "collapsed": false
   },
   "outputs": [
    {
     "data": {
      "image/png": "[encoded data removed]",
      "text/plain": [
       "<matplotlib.figure.Figure at 0x2242e9f0ba8>"
      ]
     },
     "metadata": {},
     "output_type": "display_data"
    }
   ],
   "source": [
    "fig = plt.figure(1, figsize=(4, 5))\n",
    "\n",
    "# Create an axes instance\n",
    "ax = fig.add_subplot(111)\n",
    "plt.ylabel('Test error on K-fold')\n",
    "\n",
    "## add patch_artist=True option to ax.boxplot() \n",
    "## to get fill color\n",
    "bp = ax.boxplot([test_errs_raw, test_errs_sel], patch_artist=True)\n",
    "ax.set_xticklabels(['Raw', 'Selected_Poly'])\n",
    "ax.get_xaxis().tick_bottom()\n",
    "ax.get_yaxis().tick_left()\n",
    "\n",
    "## change outline color, fill color and linewidth of the boxes\n",
    "for box in bp['boxes']:\n",
    "    # change outline color\n",
    "    box.set( color='#7570b3', linewidth=2)\n",
    "    # change fill color\n",
    "    box.set( facecolor = '#1b9e77' )\n",
    "\n",
    "## change color and linewidth of the whiskers\n",
    "for whisker in bp['whiskers']:\n",
    "    whisker.set(color='#7570b3', linewidth=2)\n",
    "\n",
    "## change color and linewidth of the caps\n",
    "for cap in bp['caps']:\n",
    "    cap.set(color='#7570b3', linewidth=2)\n",
    "\n",
    "## change color and linewidth of the medians\n",
    "for median in bp['medians']:\n",
    "    median.set(color='#b2df8a', linewidth=2)\n",
    "\n",
    "## change the style of fliers and their fill\n",
    "for flier in bp['fliers']:\n",
    "    flier.set(marker='o', color='#e7298a', alpha=0.5)\n",
    "fig.savefig('test_error.jpg', format='jpg',bbox_inches='tight')"
   ]
  },
  {
   "cell_type": "code",
   "execution_count": null,
   "metadata": {
    "collapsed": true
   },
   "outputs": [],
   "source": []
  }
 ],
 "metadata": {
  "anaconda-cloud": {},
  "kernelspec": {
   "display_name": "Python [conda root]",
   "language": "python",
   "name": "conda-root-py"
  },
  "language_info": {
   "codemirror_mode": {
    "name": "ipython",
    "version": 3
   },
   "file_extension": ".py",
   "mimetype": "text/x-python",
   "name": "python",
   "nbconvert_exporter": "python",
   "pygments_lexer": "ipython3",
   "version": "3.5.2"
  }
 },
 "nbformat": 4,
 "nbformat_minor": 0
}
