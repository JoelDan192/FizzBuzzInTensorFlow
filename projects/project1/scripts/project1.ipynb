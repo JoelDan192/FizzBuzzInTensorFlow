{
 "cells": [
  {
   "cell_type": "code",
   "execution_count": 92,
   "metadata": {
    "collapsed": false
   },
   "outputs": [
    {
     "name": "stdout",
     "output_type": "stream",
     "text": [
      "The autoreload extension is already loaded. To reload it, use:\n",
      "  %reload_ext autoreload\n"
     ]
    }
   ],
   "source": [
    "# Useful starting lines\n",
    "%matplotlib inline\n",
    "import numpy as np\n",
    "import matplotlib.pyplot as plt\n",
    "%load_ext autoreload\n",
    "%autoreload 2"
   ]
  },
  {
   "cell_type": "markdown",
   "metadata": {},
   "source": [
    "## Load the training data into feature matrix, class labels, and event ids:"
   ]
  },
  {
   "cell_type": "code",
   "execution_count": 146,
   "metadata": {
    "collapsed": false
   },
   "outputs": [],
   "source": [
    "from proj1_helpers import *\n",
    "from helpers import *\n",
    "\n",
    "DATA_TRAIN_PATH = '../train_pca.csv' \n",
    "y, tX, ids = load_csv_data(DATA_TRAIN_PATH)\n",
    "y[y==-1]=0"
   ]
  },
  {
   "cell_type": "code",
   "execution_count": 147,
   "metadata": {
    "collapsed": true
   },
   "outputs": [],
   "source": [
    "ys, tXs = y, tX"
   ]
  },
  {
   "cell_type": "code",
   "execution_count": 148,
   "metadata": {
    "collapsed": true
   },
   "outputs": [],
   "source": [
    "#Optional: normalize rows\n",
    "#row_sums = tXs.max(axis=1)\n",
    "#tXs = tXs / row_sums[:, np.newaxis]"
   ]
  },
  {
   "cell_type": "code",
   "execution_count": 149,
   "metadata": {
    "collapsed": false
   },
   "outputs": [],
   "source": [
    "tXs,_,_= standardize(tXs)"
   ]
  },
  {
   "cell_type": "code",
   "execution_count": 150,
   "metadata": {
    "collapsed": false
   },
   "outputs": [
    {
     "data": {
      "text/plain": [
       "(250000, 31)"
      ]
     },
     "execution_count": 150,
     "metadata": {},
     "output_type": "execute_result"
    }
   ],
   "source": [
    "tXs.shape"
   ]
  },
  {
   "cell_type": "code",
   "execution_count": 151,
   "metadata": {
    "collapsed": false
   },
   "outputs": [
    {
     "data": {
      "text/plain": [
       "(250000,)"
      ]
     },
     "execution_count": 151,
     "metadata": {},
     "output_type": "execute_result"
    }
   ],
   "source": [
    "ys.shape"
   ]
  },
  {
   "cell_type": "code",
   "execution_count": 152,
   "metadata": {
    "collapsed": false
   },
   "outputs": [
    {
     "data": {
      "text/plain": [
       "array([ 1.,  0.,  0., ...,  1.,  0.,  0.])"
      ]
     },
     "execution_count": 152,
     "metadata": {},
     "output_type": "execute_result"
    }
   ],
   "source": [
    "ys"
   ]
  },
  {
   "cell_type": "code",
   "execution_count": 153,
   "metadata": {
    "collapsed": false
   },
   "outputs": [
    {
     "data": {
      "text/plain": [
       "array([[ 1.        ,  0.46242658, -1.37398346, ...,  1.56537312,\n",
       "         1.5653623 ,  0.6306402 ],\n",
       "       [ 1.        ,  0.51367613, -0.4961084 , ..., -0.63825412,\n",
       "        -0.63825413, -0.30574226],\n",
       "       [ 1.        , -2.33946272,  2.05729923, ..., -0.64532598,\n",
       "        -0.64531484,  0.21581095],\n",
       "       ..., \n",
       "       [ 1.        ,  0.37934952, -0.35765339, ..., -0.63795934,\n",
       "        -0.63795899, -0.26076957],\n",
       "       [ 1.        ,  0.35670547, -0.00535578, ..., -0.63730215,\n",
       "        -0.63730533, -0.93318754],\n",
       "       [ 1.        , -2.33532248,  2.08060995, ..., -0.63942504,\n",
       "        -0.63941597, -0.81528111]])"
      ]
     },
     "execution_count": 153,
     "metadata": {},
     "output_type": "execute_result"
    }
   ],
   "source": [
    "tXs"
   ]
  },
  {
   "cell_type": "markdown",
   "metadata": {},
   "source": [
    "# Crazy Machine Learning"
   ]
  },
  {
   "cell_type": "markdown",
   "metadata": {},
   "source": [
    "## Baselines (all methods should get similar estimates of w and mse)"
   ]
  },
  {
   "cell_type": "markdown",
   "metadata": {},
   "source": [
    "## Fit with Least squares"
   ]
  },
  {
   "cell_type": "code",
   "execution_count": 65,
   "metadata": {
    "collapsed": false
   },
   "outputs": [
    {
     "ename": "KeyboardInterrupt",
     "evalue": "",
     "output_type": "error",
     "traceback": [
      "\u001b[0;31m---------------------------------------------------------------------------\u001b[0m",
      "\u001b[0;31mKeyboardInterrupt\u001b[0m                         Traceback (most recent call last)",
      "\u001b[0;32m<ipython-input-65-cad76001eb2c>\u001b[0m in \u001b[0;36m<module>\u001b[0;34m()\u001b[0m\n\u001b[1;32m      8\u001b[0m \u001b[0mls_mse\u001b[0m\u001b[1;33m,\u001b[0m \u001b[0mw_ls\u001b[0m \u001b[1;33m=\u001b[0m \u001b[0mleast_squares\u001b[0m\u001b[1;33m(\u001b[0m\u001b[0mys\u001b[0m\u001b[1;33m,\u001b[0m \u001b[0mtXs\u001b[0m\u001b[1;33m)\u001b[0m\u001b[1;33m\u001b[0m\u001b[0m\n\u001b[1;32m      9\u001b[0m \u001b[0mgdls_mse\u001b[0m\u001b[1;33m,\u001b[0m \u001b[0mw_gdls\u001b[0m \u001b[1;33m=\u001b[0m \u001b[0mleast_squares_GD_auto\u001b[0m\u001b[1;33m(\u001b[0m\u001b[0mys\u001b[0m\u001b[1;33m,\u001b[0m \u001b[0mtXs\u001b[0m\u001b[1;33m,\u001b[0m \u001b[0mmax_iters\u001b[0m\u001b[1;33m,\u001b[0m \u001b[0mw0\u001b[0m\u001b[1;33m)\u001b[0m\u001b[1;33m\u001b[0m\u001b[0m\n\u001b[0;32m---> 10\u001b[0;31m \u001b[0msgdls_mse\u001b[0m\u001b[1;33m,\u001b[0m \u001b[0mw_sgdls\u001b[0m \u001b[1;33m=\u001b[0m \u001b[0mleast_squares_SGD_simple\u001b[0m\u001b[1;33m(\u001b[0m\u001b[0mys\u001b[0m\u001b[1;33m,\u001b[0m \u001b[0mtXs\u001b[0m\u001b[1;33m,\u001b[0m \u001b[0mmax_iters\u001b[0m\u001b[1;33m,\u001b[0m \u001b[0mbatch_size\u001b[0m\u001b[1;33m,\u001b[0m \u001b[0mw0\u001b[0m\u001b[1;33m,\u001b[0m \u001b[0mgamma\u001b[0m\u001b[1;33m)\u001b[0m\u001b[1;33m\u001b[0m\u001b[0m\n\u001b[0m",
      "\u001b[0;32mc:\\Users\\Joel\\ML_course\\projects\\project1\\scripts\\least_squares.py\u001b[0m in \u001b[0;36mleast_squares_SGD_simple\u001b[0;34m(y, tx, max_iters, batch_size, initial_w, gamma)\u001b[0m\n\u001b[1;32m     71\u001b[0m         \u001b[0mg\u001b[0m \u001b[1;33m=\u001b[0m \u001b[0mcompute_stoch_gradient\u001b[0m\u001b[1;33m(\u001b[0m\u001b[0my\u001b[0m\u001b[1;33m,\u001b[0m\u001b[0mtx\u001b[0m\u001b[1;33m,\u001b[0m\u001b[0mw\u001b[0m\u001b[1;33m,\u001b[0m\u001b[0mbatch_size\u001b[0m\u001b[1;33m)\u001b[0m\u001b[1;33m\u001b[0m\u001b[0m\n\u001b[1;32m     72\u001b[0m         \u001b[0mloss_prev\u001b[0m \u001b[1;33m=\u001b[0m \u001b[0mloss\u001b[0m\u001b[1;33m\u001b[0m\u001b[0m\n\u001b[0;32m---> 73\u001b[0;31m         \u001b[0mloss\u001b[0m \u001b[1;33m=\u001b[0m \u001b[0mcosts\u001b[0m\u001b[1;33m.\u001b[0m\u001b[0mcompute_loss\u001b[0m\u001b[1;33m(\u001b[0m\u001b[0my\u001b[0m\u001b[1;33m,\u001b[0m \u001b[0mtx\u001b[0m\u001b[1;33m,\u001b[0m \u001b[0mw\u001b[0m\u001b[1;33m)\u001b[0m\u001b[1;33m\u001b[0m\u001b[0m\n\u001b[0m\u001b[1;32m     74\u001b[0m         \u001b[0mdelta_w\u001b[0m \u001b[1;33m=\u001b[0m \u001b[1;33m-\u001b[0m\u001b[0mg\u001b[0m\u001b[1;33m\u001b[0m\u001b[0m\n\u001b[1;32m     75\u001b[0m         \u001b[1;32mif\u001b[0m \u001b[0mloss_prev\u001b[0m \u001b[1;32mand\u001b[0m \u001b[0mnp\u001b[0m\u001b[1;33m.\u001b[0m\u001b[0mabs\u001b[0m\u001b[1;33m(\u001b[0m\u001b[0mloss\u001b[0m\u001b[1;33m-\u001b[0m\u001b[0mloss_prev\u001b[0m\u001b[1;33m)\u001b[0m \u001b[1;33m<\u001b[0m \u001b[0mthreshold\u001b[0m\u001b[1;33m:\u001b[0m\u001b[1;33m\u001b[0m\u001b[0m\n",
      "\u001b[0;32mc:\\Users\\Joel\\ML_course\\projects\\project1\\scripts\\costs.py\u001b[0m in \u001b[0;36mcompute_loss\u001b[0;34m(y, tx, w)\u001b[0m\n\u001b[1;32m     20\u001b[0m     \u001b[0mYou\u001b[0m \u001b[0mcan\u001b[0m \u001b[0mcalculate\u001b[0m \u001b[0mthe\u001b[0m \u001b[0mloss\u001b[0m \u001b[0musing\u001b[0m \u001b[0mmse\u001b[0m \u001b[1;32mor\u001b[0m \u001b[0mmae\u001b[0m\u001b[1;33m.\u001b[0m\u001b[1;33m\u001b[0m\u001b[0m\n\u001b[1;32m     21\u001b[0m     \"\"\"\n\u001b[0;32m---> 22\u001b[0;31m     \u001b[0me\u001b[0m \u001b[1;33m=\u001b[0m \u001b[0my\u001b[0m \u001b[1;33m-\u001b[0m \u001b[0mtx\u001b[0m\u001b[1;33m.\u001b[0m\u001b[0mdot\u001b[0m\u001b[1;33m(\u001b[0m\u001b[0mw\u001b[0m\u001b[1;33m)\u001b[0m\u001b[1;33m\u001b[0m\u001b[0m\n\u001b[0m\u001b[1;32m     23\u001b[0m     \u001b[1;32mreturn\u001b[0m \u001b[0mcalculate_mse\u001b[0m\u001b[1;33m(\u001b[0m\u001b[0me\u001b[0m\u001b[1;33m)\u001b[0m\u001b[1;33m\u001b[0m\u001b[0m\n\u001b[1;32m     24\u001b[0m     \u001b[1;31m# return calculate_mae(e)\u001b[0m\u001b[1;33m\u001b[0m\u001b[1;33m\u001b[0m\u001b[0m\n",
      "\u001b[0;31mKeyboardInterrupt\u001b[0m: "
     ]
    }
   ],
   "source": [
    "from least_squares import least_squares\n",
    "from least_squares import least_squares_GD_auto, least_squares_SGD_simple\n",
    "max_iters = 1000\n",
    "batch_size = 100\n",
    "w0 = np.zeros(tXs.shape[1])\n",
    "gamma = 0.1\n",
    "\n",
    "ls_mse, w_ls = least_squares(ys, tXs)\n",
    "gdls_mse, w_gdls = least_squares_GD_auto(ys, tXs, max_iters, w0)\n",
    "sgdls_mse, w_sgdls = least_squares_SGD_simple(ys, tXs, max_iters, batch_size, w0, gamma)"
   ]
  },
  {
   "cell_type": "code",
   "execution_count": 9,
   "metadata": {
    "collapsed": false
   },
   "outputs": [
    {
     "data": {
      "text/plain": [
       "(0.08486139962233244,\n",
       " array([  3.42668000e-01,   1.46894135e-02,  -1.26265738e-01,\n",
       "         -1.27395562e-01,  -1.51848412e-02,  -7.00723588e-01,\n",
       "          1.47850821e-01,  -5.39447357e+00,   1.33940431e-01,\n",
       "         -1.22467489e-03,  -1.64408736e+02,  -9.13239441e-02,\n",
       "          5.70198133e-02,   1.02522980e+01,   3.19416930e+01,\n",
       "         -1.59480956e-04,  -9.04421480e-04,   3.14962841e+01,\n",
       "         -2.24320729e-04,   7.71896441e-04,   6.07313503e-02,\n",
       "          1.97634414e-04,  -3.16611736e-02,  -1.03373547e-01,\n",
       "         -5.83278849e-02,   4.93128226e-02,   8.39538546e-02,\n",
       "         -1.67573128e-02,  -1.49179344e+00,  -2.68194046e+00,\n",
       "          1.39235199e+02]))"
      ]
     },
     "execution_count": 9,
     "metadata": {},
     "output_type": "execute_result"
    }
   ],
   "source": [
    "ls_mse, w_ls"
   ]
  },
  {
   "cell_type": "code",
   "execution_count": 10,
   "metadata": {
    "collapsed": false
   },
   "outputs": [
    {
     "data": {
      "text/plain": [
       "(0.085006007482485935,\n",
       " array([  3.42668000e-01,   1.45632449e-02,  -1.26738913e-01,\n",
       "         -1.27530067e-01,  -1.54917793e-02,  -1.20909570e-02,\n",
       "          2.09016254e-01,  -1.98401722e-02,   1.33953007e-01,\n",
       "         -1.00754405e-03,  -4.04023001e-04,  -9.13110485e-02,\n",
       "          5.75444913e-02,  -1.36777979e-02,   9.62282138e-02,\n",
       "         -3.20291370e-04,  -5.34745366e-04,   1.44148765e-01,\n",
       "         -4.47812519e-04,   1.27149540e-03,   6.05219879e-02,\n",
       "          5.17684433e-04,  -3.15704551e-02,  -9.37837120e-02,\n",
       "          2.22635189e-02,   2.76892737e-02,   2.76875391e-02,\n",
       "         -1.42745900e-02,  -1.48432129e-02,  -1.51770128e-02,\n",
       "         -5.49301899e-02]))"
      ]
     },
     "execution_count": 10,
     "metadata": {},
     "output_type": "execute_result"
    }
   ],
   "source": [
    "gdls_mse, w_gdls"
   ]
  },
  {
   "cell_type": "code",
   "execution_count": 11,
   "metadata": {
    "collapsed": false
   },
   "outputs": [
    {
     "data": {
      "text/plain": [
       "(0.086670130876927653,\n",
       " array([ 0.34254363,  0.00679056, -0.12437178, -0.12596976, -0.03086418,\n",
       "        -0.02350184,  0.20678933, -0.03220147,  0.1248132 , -0.01175256,\n",
       "        -0.00063586, -0.07818721,  0.07096755, -0.02526131,  0.10278411,\n",
       "        -0.00949337, -0.00084807,  0.13710221,  0.00447407,  0.00878808,\n",
       "         0.04379585,  0.01167051, -0.0393092 , -0.09340691,  0.02852881,\n",
       "         0.03260432,  0.03215285, -0.02855735, -0.02622768, -0.02656874,\n",
       "        -0.05511662]))"
      ]
     },
     "execution_count": 11,
     "metadata": {},
     "output_type": "execute_result"
    }
   ],
   "source": [
    "sgdls_mse, w_sgdls"
   ]
  },
  {
   "cell_type": "markdown",
   "metadata": {},
   "source": [
    "## Ridge regression"
   ]
  },
  {
   "cell_type": "code",
   "execution_count": 154,
   "metadata": {
    "collapsed": false
   },
   "outputs": [],
   "source": [
    "from ridge_regression import ridge_regression, ridge_regression_auto\n",
    "\n",
    "lambdas = np.logspace(-4, 2, 10)\n",
    "kfold=4\n",
    "\n",
    "ridge_mse, w_ridge = ridge_regression(ys, tXs, 0.5)\n",
    "ridge_kfold_mse, w_ridge_kfold = ridge_regression_auto(ys, tXs, kfold, lambdas)"
   ]
  },
  {
   "cell_type": "code",
   "execution_count": 155,
   "metadata": {
    "collapsed": false
   },
   "outputs": [
    {
     "data": {
      "text/plain": [
       "(0.10120769446362254,\n",
       " array([ 0.34266731,  0.01615093, -0.02599998,  0.00669563, -0.00447669,\n",
       "         0.00771486,  0.09096429,  0.00632838,  0.04758791, -0.05868137,\n",
       "         0.00042059,  0.00649691,  0.03291953,  0.00727531, -0.00072294,\n",
       "        -0.02820685, -0.0257552 , -0.01436889,  0.004901  ,  0.0630885 ,\n",
       "        -0.01098818,  0.01546274, -0.01256624,  0.02523671,  0.01527609,\n",
       "         0.01582051,  0.01582042,  0.00826428,  0.0071997 ,  0.00720249,\n",
       "         0.00268969]))"
      ]
     },
     "execution_count": 155,
     "metadata": {},
     "output_type": "execute_result"
    }
   ],
   "source": [
    "ridge_mse, w_ridge"
   ]
  },
  {
   "cell_type": "code",
   "execution_count": 156,
   "metadata": {
    "collapsed": false
   },
   "outputs": [
    {
     "data": {
      "text/plain": [
       "(0.10163173948487755,\n",
       " array([  3.41931196e-01,   1.60337439e-02,  -2.61207737e-02,\n",
       "          6.57918203e-03,  -4.62069465e-03,   7.78742198e-03,\n",
       "          9.20244668e-02,   6.38445837e-03,   4.79974539e-02,\n",
       "         -5.94650692e-02,   3.33074133e-04,   6.50135839e-03,\n",
       "          3.31587081e-02,   7.34269119e-03,  -8.78717898e-04,\n",
       "         -2.85631061e-02,  -2.58251769e-02,  -1.46707018e-02,\n",
       "          4.87428093e-03,   6.38208323e-02,  -1.10487140e-02,\n",
       "          1.54217223e-02,  -1.28246187e-02,   2.54653576e-02,\n",
       "          1.54353164e-02,   1.59927317e-02,   1.59926471e-02,\n",
       "          8.34053199e-03,   7.26619668e-03,   7.26902544e-03,\n",
       "          2.64769629e-03]))"
      ]
     },
     "execution_count": 156,
     "metadata": {},
     "output_type": "execute_result"
    }
   ],
   "source": [
    "ridge_kfold_mse, w_ridge_kfold"
   ]
  },
  {
   "cell_type": "markdown",
   "metadata": {},
   "source": [
    "## Logistic regression"
   ]
  },
  {
   "cell_type": "code",
   "execution_count": 157,
   "metadata": {
    "collapsed": false
   },
   "outputs": [],
   "source": [
    "from logistic_regression import logistic_regression, reg_logistic_regression\n",
    "\n",
    "#NOTE: loss here is different (includes log terms) so it will differ from mse above\n",
    "\n",
    "gamma=0.1\n",
    "max_iters = 1000\n",
    "lambda_= 0.1\n",
    "\n",
    "#IMPORTANT: it is probably better to use ONLY the regularized version of log_regression for this\n",
    "#dataset as the Newton method depends on the hessian being non-singular (which is guaranteed by lambda_>0)\n",
    "lreg_reg_loss, w_lreg_reg = reg_logistic_regression(ys, tXs, lambda_, gamma, max_iters)"
   ]
  },
  {
   "cell_type": "code",
   "execution_count": 158,
   "metadata": {
    "collapsed": false
   },
   "outputs": [
    {
     "data": {
      "text/plain": [
       "(146247.89608309485,\n",
       " array([-0.75424655,  0.12803078, -0.16901247,  0.0517195 , -0.02411886,\n",
       "         0.04044017,  0.48461035,  0.03303999,  0.27181598, -0.31543273,\n",
       "         0.00182759,  0.0312122 ,  0.18951844,  0.0380941 ,  0.00140733,\n",
       "        -0.15150026, -0.17514237, -0.07378615,  0.03355376,  0.33183968,\n",
       "        -0.08144831,  0.10872459, -0.0658675 ,  0.13263325,  0.07849072,\n",
       "         0.08133725,  0.08133655,  0.04335279,  0.03769044,  0.03770514,\n",
       "         0.0127192 ]))"
      ]
     },
     "execution_count": 158,
     "metadata": {},
     "output_type": "execute_result"
    }
   ],
   "source": [
    "lreg_reg_loss, w_lreg_reg"
   ]
  },
  {
   "cell_type": "code",
   "execution_count": 159,
   "metadata": {
    "collapsed": false
   },
   "outputs": [],
   "source": [
    "from logistic_regression import reg_logistic_regression_auto\n",
    "\n",
    "max_iters = 1000\n",
    "lambdas = np.logspace(-5, 3, 15)\n",
    "kfold=10\n",
    "\n",
    "logreg_auto_loss, w_logreg_auto = reg_logistic_regression_auto(ys, tXs, kfold, max_iters, lambdas)"
   ]
  },
  {
   "cell_type": "code",
   "execution_count": 160,
   "metadata": {
    "collapsed": false
   },
   "outputs": [
    {
     "data": {
      "text/plain": [
       "(14717.002587926771,\n",
       " array([-0.75600125,  0.1283613 , -0.16978004,  0.05182303, -0.02456245,\n",
       "         0.04067401,  0.48803818,  0.03322059,  0.27362152, -0.31784431,\n",
       "         0.00161907,  0.03135987,  0.19040142,  0.03831125,  0.00117053,\n",
       "        -0.15293348, -0.176071  , -0.07452454,  0.03334672,  0.33423387,\n",
       "        -0.08193677,  0.10896689, -0.06658042,  0.13333743,  0.07873525,\n",
       "         0.08160385,  0.08160319,  0.04360469,  0.03790458,  0.03791934,\n",
       "         0.01260376]))"
      ]
     },
     "execution_count": 160,
     "metadata": {},
     "output_type": "execute_result"
    }
   ],
   "source": [
    "logreg_auto_loss, w_logreg_auto"
   ]
  },
  {
   "cell_type": "code",
   "execution_count": 161,
   "metadata": {
    "collapsed": true
   },
   "outputs": [],
   "source": [
    "weights_log = w_logreg_auto"
   ]
  },
  {
   "cell_type": "code",
   "execution_count": 162,
   "metadata": {
    "collapsed": true
   },
   "outputs": [],
   "source": [
    "weights_ls = w_ridge_kfold"
   ]
  },
  {
   "cell_type": "code",
   "execution_count": 163,
   "metadata": {
    "collapsed": false
   },
   "outputs": [
    {
     "data": {
      "text/plain": [
       "array([-0.75600125,  0.1283613 , -0.16978004,  0.05182303, -0.02456245,\n",
       "        0.04067401,  0.48803818,  0.03322059,  0.27362152, -0.31784431,\n",
       "        0.00161907,  0.03135987,  0.19040142,  0.03831125,  0.00117053,\n",
       "       -0.15293348, -0.176071  , -0.07452454,  0.03334672,  0.33423387,\n",
       "       -0.08193677,  0.10896689, -0.06658042,  0.13333743,  0.07873525,\n",
       "        0.08160385,  0.08160319,  0.04360469,  0.03790458,  0.03791934,\n",
       "        0.01260376])"
      ]
     },
     "execution_count": 163,
     "metadata": {},
     "output_type": "execute_result"
    }
   ],
   "source": [
    "weights_log"
   ]
  },
  {
   "cell_type": "code",
   "execution_count": 164,
   "metadata": {
    "collapsed": false
   },
   "outputs": [
    {
     "data": {
      "text/plain": [
       "array([  3.41931196e-01,   1.60337439e-02,  -2.61207737e-02,\n",
       "         6.57918203e-03,  -4.62069465e-03,   7.78742198e-03,\n",
       "         9.20244668e-02,   6.38445837e-03,   4.79974539e-02,\n",
       "        -5.94650692e-02,   3.33074133e-04,   6.50135839e-03,\n",
       "         3.31587081e-02,   7.34269119e-03,  -8.78717898e-04,\n",
       "        -2.85631061e-02,  -2.58251769e-02,  -1.46707018e-02,\n",
       "         4.87428093e-03,   6.38208323e-02,  -1.10487140e-02,\n",
       "         1.54217223e-02,  -1.28246187e-02,   2.54653576e-02,\n",
       "         1.54353164e-02,   1.59927317e-02,   1.59926471e-02,\n",
       "         8.34053199e-03,   7.26619668e-03,   7.26902544e-03,\n",
       "         2.64769629e-03])"
      ]
     },
     "execution_count": 164,
     "metadata": {},
     "output_type": "execute_result"
    }
   ],
   "source": [
    "weights_ls"
   ]
  },
  {
   "cell_type": "markdown",
   "metadata": {},
   "source": [
    "## Generate predictions and save ouput in csv format for submission:"
   ]
  },
  {
   "cell_type": "code",
   "execution_count": 165,
   "metadata": {
    "collapsed": false
   },
   "outputs": [],
   "source": [
    "DATA_TEST_PATH = '../test_pca.csv' # TODO: download train data and supply path here \n",
    "_, tX_test, ids_test = load_csv_data(DATA_TEST_PATH)\n",
    "#Optional: normalize rows\n",
    "#row_sums = tX_test.max(axis=1)\n",
    "#tX_test = tX_test / row_sums[:, np.newaxis]\n",
    "\n",
    "tX_test,_,_= standardize(tX_test)"
   ]
  },
  {
   "cell_type": "code",
   "execution_count": 166,
   "metadata": {
    "collapsed": false
   },
   "outputs": [
    {
     "data": {
      "text/plain": [
       "(568238, 31)"
      ]
     },
     "execution_count": 166,
     "metadata": {},
     "output_type": "execute_result"
    }
   ],
   "source": [
    "tX_test.shape"
   ]
  },
  {
   "cell_type": "code",
   "execution_count": 167,
   "metadata": {
    "collapsed": false
   },
   "outputs": [],
   "source": [
    "OUTPUT_PATH_LS = '../submission_ls.csv' # TODO: fill in desired name of output file for submission\n",
    "OUTPUT_PATH_LOG = '../submission_log.csv'\n",
    "\n",
    "y_pred_ls = predict_labels(weights_ls, tX_test)\n",
    "y_pred_log = predict_labels_logistic(weights_log, tX_test)\n"
   ]
  },
  {
   "cell_type": "code",
   "execution_count": 168,
   "metadata": {
    "collapsed": false
   },
   "outputs": [
    {
     "name": "stdout",
     "output_type": "stream",
     "text": [
      "[ 1.  1.  1. ...,  1.  1.  1.]\n",
      "[-1. -1. -1. ..., -1. -1. -1.]\n"
     ]
    }
   ],
   "source": [
    "print(y_pred_ls)\n",
    "print(y_pred_log)"
   ]
  },
  {
   "cell_type": "code",
   "execution_count": 169,
   "metadata": {
    "collapsed": false
   },
   "outputs": [
    {
     "name": "stdout",
     "output_type": "stream",
     "text": [
      "(568238,)\n",
      "(568238,)\n"
     ]
    }
   ],
   "source": [
    "print(y_pred_ls.shape)\n",
    "print(y_pred_log.shape)"
   ]
  },
  {
   "cell_type": "code",
   "execution_count": 170,
   "metadata": {
    "collapsed": true
   },
   "outputs": [],
   "source": [
    "create_csv_submission(ids_test, y_pred_ls, OUTPUT_PATH_LS)\n",
    "create_csv_submission(ids_test, y_pred_log, OUTPUT_PATH_LOG)"
   ]
  },
  {
   "cell_type": "code",
   "execution_count": null,
   "metadata": {
    "collapsed": true
   },
   "outputs": [],
   "source": []
  }
 ],
 "metadata": {
  "anaconda-cloud": {},
  "kernelspec": {
   "display_name": "Python [conda root]",
   "language": "python",
   "name": "conda-root-py"
  },
  "language_info": {
   "codemirror_mode": {
    "name": "ipython",
    "version": 3
   },
   "file_extension": ".py",
   "mimetype": "text/x-python",
   "name": "python",
   "nbconvert_exporter": "python",
   "pygments_lexer": "ipython3",
   "version": "3.5.2"
  }
 },
 "nbformat": 4,
 "nbformat_minor": 0
}
